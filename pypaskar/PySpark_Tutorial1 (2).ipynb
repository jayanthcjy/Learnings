{
 "cells": [
  {
   "cell_type": "markdown",
   "metadata": {
    "application/vnd.databricks.v1+cell": {
     "cellMetadata": {},
     "inputWidgets": {},
     "nuid": "8179dc78-fd9b-4772-b5bd-f79aec8b2574",
     "showTitle": false,
     "title": ""
    }
   },
   "source": [
    "# PySpark Tutorial"
   ]
  },
  {
   "cell_type": "markdown",
   "metadata": {
    "application/vnd.databricks.v1+cell": {
     "cellMetadata": {},
     "inputWidgets": {},
     "nuid": "a9381fe2-90c2-402a-b610-fb679716ac60",
     "showTitle": false,
     "title": ""
    }
   },
   "source": [
    "## 1. Creating Spark Session and Spark Context\n",
    "In PySpark, SparkContext is the entry point to any Spark functionality. It allows your Spark application to access the cluster through a resource manager. In more recent versions of PySpark, you typically use SparkSession, which includes SparkContext and provides additional functionality."
   ]
  },
  {
   "cell_type": "code",
   "execution_count": 0,
   "metadata": {
    "application/vnd.databricks.v1+cell": {
     "cellMetadata": {
      "byteLimit": 2048000,
      "rowLimit": 10000
     },
     "inputWidgets": {},
     "nuid": "4b0991a0-50e1-4719-83a9-63926b237fbd",
     "showTitle": false,
     "title": ""
    }
   },
   "outputs": [],
   "source": [
    "# Import necessary libraries\n",
    "from pyspark import SparkConf, SparkContext\n",
    "from pyspark.sql import SparkSession\n",
    "\n",
    "# # Initialize SparkContext\n",
    "# conf = SparkConf().setAppName(\"MyApp\").setMaster(\"local[*]\")\n",
    "# sc = SparkContext(conf=conf)\n",
    "\n",
    "# .config(conf=sc.getConf()) \\\n",
    "# Initialize SparkSession\n",
    "spark = SparkSession.builder \\\n",
    "    .appName(\"MyApp\") \\\n",
    "    .getOrCreate()\n"
   ]
  },
  {
   "cell_type": "markdown",
   "metadata": {
    "application/vnd.databricks.v1+cell": {
     "cellMetadata": {},
     "inputWidgets": {},
     "nuid": "e7a095a4-04a6-452c-b650-7ec798aa8155",
     "showTitle": false,
     "title": ""
    }
   },
   "source": [
    "###2.Creating Different Spark Sessions"
   ]
  },
  {
   "cell_type": "code",
   "execution_count": 0,
   "metadata": {
    "application/vnd.databricks.v1+cell": {
     "cellMetadata": {
      "byteLimit": 2048000,
      "rowLimit": 10000
     },
     "inputWidgets": {},
     "nuid": "5790ad17-012d-4fc7-b6eb-30ae93d9070f",
     "showTitle": false,
     "title": ""
    }
   },
   "outputs": [
    {
     "output_type": "stream",
     "name": "stdout",
     "output_type": "stream",
     "text": [
      "Default SparkSession\n<pyspark.sql.session.SparkSession object at 0x7f470ed58490>\nNew SparkSession 1\n<pyspark.sql.session.SparkSession object at 0x7f470ed58490>\nNew SparkSession 2\n<pyspark.sql.session.SparkSession object at 0x7f470ed58490>\n+-----+-----+\n| Name|Value|\n+-----+-----+\n|Alice|    1|\n|  Bob|    2|\n|Cathy|    3|\n+-----+-----+\n\n+-----+-----+\n| Name|Value|\n+-----+-----+\n|Alice|    1|\n|  Bob|    2|\n|Cathy|    3|\n+-----+-----+\n\n"
     ]
    }
   ],
   "source": [
    "from pyspark.sql import SparkSession\n",
    "\n",
    "# Default Spark session provided by Databricks\n",
    "print(\"Default SparkSession\")\n",
    "print(spark)\n",
    "\n",
    "# Create a new Spark session\n",
    "new_spark1 = SparkSession.builder \\\n",
    "    .appName(\"exampleApp1\") \\\n",
    "    .getOrCreate()\n",
    "\n",
    "print(\"New SparkSession 1\")\n",
    "print(new_spark1)\n",
    "\n",
    "# Create another new Spark session\n",
    "new_spark2 = SparkSession.builder \\\n",
    "    .appName(\"exampleApp2\") \\\n",
    "    .getOrCreate()\n",
    "\n",
    "print(\"New SparkSession 2\")\n",
    "print(new_spark2)\n",
    "\n",
    "# Example usage of the new Spark sessions\n",
    "data = [(\"Alice\", 1), (\"Bob\", 2), (\"Cathy\", 3)]\n",
    "columns = [\"Name\", \"Value\"]\n",
    "\n",
    "df1 = new_spark1.createDataFrame(data, columns)\n",
    "df2 = new_spark2.createDataFrame(data, columns)\n",
    "\n",
    "df1.show()\n",
    "df2.show()\n",
    "\n"
   ]
  },
  {
   "cell_type": "markdown",
   "metadata": {
    "application/vnd.databricks.v1+cell": {
     "cellMetadata": {},
     "inputWidgets": {},
     "nuid": "9fa377cb-2f07-45f1-bfc3-4f1074faf859",
     "showTitle": false,
     "title": ""
    }
   },
   "source": [
    "## 3. Creating RDDs\n",
    "Resilient Distributed Datasets (RDDs) are the fundamental data structure of Spark. They are immutable and distributed collections of objects. RDDs can be created in multiple ways:\n",
    "\n",
    "### 3.1 Parallelizing an Existing Collection\n",
    "This method is useful for small datasets that can fit into memory."
   ]
  },
  {
   "cell_type": "code",
   "execution_count": 0,
   "metadata": {
    "application/vnd.databricks.v1+cell": {
     "cellMetadata": {
      "byteLimit": 2048000,
      "rowLimit": 10000
     },
     "inputWidgets": {},
     "nuid": "b0a536ad-5bef-443e-ba68-f17f72223dc1",
     "showTitle": false,
     "title": ""
    }
   },
   "outputs": [
    {
     "output_type": "stream",
     "name": "stdout",
     "output_type": "stream",
     "text": [
      "[1, 2, 3, 4, 5]\n"
     ]
    }
   ],
   "source": [
    "# Create an RDD by parallelizing a collection\n",
    "data = [1, 2, 3, 4, 5]\n",
    "rdd = sc.parallelize(data)\n",
    "\n",
    "# Perform an action to collect the results\n",
    "print(rdd.collect())  # Output: [1, 2, 3, 4, 5]"
   ]
  },
  {
   "cell_type": "markdown",
   "metadata": {
    "application/vnd.databricks.v1+cell": {
     "cellMetadata": {},
     "inputWidgets": {},
     "nuid": "6161edc6-255f-49ec-b473-fda5a70928aa",
     "showTitle": false,
     "title": ""
    }
   },
   "source": [
    "### 3.2 Reading from a Text File\n",
    "You can read data from a text file stored locally or in a distributed file system like HDFS."
   ]
  },
  {
   "cell_type": "code",
   "execution_count": 0,
   "metadata": {
    "application/vnd.databricks.v1+cell": {
     "cellMetadata": {
      "byteLimit": 2048000,
      "rowLimit": 10000
     },
     "inputWidgets": {},
     "nuid": "4f72b2aa-1a94-467a-8bda-909d5c38cb34",
     "showTitle": false,
     "title": ""
    }
   },
   "outputs": [
    {
     "output_type": "stream",
     "name": "stdout",
     "output_type": "stream",
     "text": [
      "['24-06-2024 12:20:13: System.Configuration.ConfigurationErrorsException: PythonScriptFilePath is not configured.', '   at DE_IDENTIFICATION_TOOL.Pythonresponse.PythonScriptFilePath.FindProjectRootDirectory()']\n"
     ]
    }
   ],
   "source": [
    "# Create an RDD by reading a text file\n",
    "rdd = sc.textFile(\"dbfs:/FileStore/error_log.txt\")\n",
    "\n",
    "# Perform an action to collect the results\n",
    "print(rdd.collect())"
   ]
  },
  {
   "cell_type": "markdown",
   "metadata": {
    "application/vnd.databricks.v1+cell": {
     "cellMetadata": {},
     "inputWidgets": {},
     "nuid": "d87534f3-65e5-4ad7-a44a-285242ca5e6b",
     "showTitle": false,
     "title": ""
    }
   },
   "source": [
    "### 3.3 Reading from Multiple Text Files\n",
    "You can read data from multiple text files located in a directory."
   ]
  },
  {
   "cell_type": "code",
   "execution_count": 0,
   "metadata": {
    "application/vnd.databricks.v1+cell": {
     "cellMetadata": {
      "byteLimit": 2048000,
      "rowLimit": 10000
     },
     "inputWidgets": {},
     "nuid": "4b7b41ed-69e5-4ee5-b314-9a987542f417",
     "showTitle": false,
     "title": ""
    }
   },
   "outputs": [
    {
     "output_type": "stream",
     "name": "stdout",
     "output_type": "stream",
     "text": [
      "['File1 text', 'File2 Text', 'File3 Text']\n"
     ]
    }
   ],
   "source": [
    "# Create an RDD by reading multiple text files\n",
    "rdd = sc.textFile(\"dbfs:/FileStore/TextFiles/*\")\n",
    "\n",
    "# Perform an action to collect the results\n",
    "print(rdd.collect())"
   ]
  },
  {
   "cell_type": "markdown",
   "metadata": {
    "application/vnd.databricks.v1+cell": {
     "cellMetadata": {},
     "inputWidgets": {},
     "nuid": "8d110380-f391-445a-a257-cae7b272c21a",
     "showTitle": false,
     "title": ""
    }
   },
   "source": [
    "### 3.4 Reading Whole Text Files\n",
    "This method reads the entire contents of each file as a single record."
   ]
  },
  {
   "cell_type": "code",
   "execution_count": 0,
   "metadata": {
    "application/vnd.databricks.v1+cell": {
     "cellMetadata": {
      "byteLimit": 2048000,
      "rowLimit": 10000
     },
     "inputWidgets": {},
     "nuid": "ccb0a8b7-3471-4570-a37e-ef25be7678c9",
     "showTitle": false,
     "title": ""
    }
   },
   "outputs": [
    {
     "output_type": "stream",
     "name": "stdout",
     "output_type": "stream",
     "text": [
      "[('dbfs:/FileStore/Financial_Sample.xlsx', 'PK\\x03\\x04\\x14\\x00\\x06\\x00\\x08\\x00\\x00\\x00!\\x00\\x1f�\\x16`�\\x01\\x00\\x00\\x11\\x08\\x00\\x00\\x13\\x00\\x08\\x02[Content_Types].xml �\\x04\\x02(�\\x00\\x02\\x00\\x00\\x00\\x00\\x00\\x00\\x00\\x00\\x00\\x00\\x00\\x00\\x00\\x00\\x00\\x00\\x00\\x00\\x00\\x00\\x00\\x00\\x00\\x00\\x00\\x00\\x00\\x00\\x00\\x00\\x00\\x00\\x00\\x00\\x00\\x00\\x00\\x00\\x00\\x00\\x00\\x00\\x00\\x00\\x00\\x00\\x00\\x00\\x00\\x00\\x00\\x00\\x00\\x00\\x00\\x00\\x00\\x00\\x00\\x00\\x00\\x00\\x00\\x00\\x00\\x00\\x00\\x00\\x00\\x00\\x00\\x00\\x00\\x00\\x00\\x00\\x00\\x00\\x00\\x00\\x00\\x00\\x00\\x00\\x00\\x00\\x00\\x00\\x00\\x00\\x00\\x00\\x00\\x00\\x00\\x00\\x00\\x00\\x00\\x00\\x00\\x00\\x00\\x00\\x00\\x00\\x00\\x00\\x00\\x00\\x00\\x00\\x00\\x00\\x00\\x00\\x00\\x00\\x00\\x00\\x00\\x00\\x00\\x00\\x00\\x00\\x00\\x00\\x00\\x00\\x00\\x00\\x00\\x00\\x00\\x00\\x00\\x00\\x00\\x00\\x00\\x00\\x00\\x00\\x00\\x00\\x00\\x00\\x00\\x00\\x00\\x00\\x00\\x00\\x00\\x00\\x00\\x00\\x00\\x00\\x00\\x00\\x00\\x00\\x00\\x00\\x00\\x00\\x00\\x00\\x00\\x00\\x00\\x00\\x00\\x00\\x00\\x00\\x00\\x00\\x00\\x00\\x00\\x00\\x00\\x00\\x00\\x00\\x00\\x00\\x00\\x00\\x00\\x00\\x00\\x00\\x00\\x00\\x00\\x00\\x00\\x00\\x00\\x00\\x00\\x00\\x00\\x00\\x00\\x00\\x00\\x00\\x00\\x00\\x00\\x00\\x00\\x00\\x00\\x00\\x00\\x00\\x00\\x00\\x00\\x00\\x00\\x00\\x00\\x00\\x00\\x00\\x00\\x00\\x00\\x00\\x00\\x00\\x00\\x00\\x00\\x00\\x00\\x00\\x00\\x00\\x00\\x00\\x00\\x00\\x00\\x00\\x00\\x00\\x00\\x00\\x00\\x00\\x00\\x00\\x00\\x00\\x00\\x00\\x00\\x00\\x00\\x00\\x00\\x00\\x00\\x00\\x00\\x00\\x00\\x00\\x00\\x00\\x00\\x00\\x00\\x00\\x00\\x00\\x00\\x00\\x00\\x00\\x00\\x00\\x00\\x00\\x00\\x00\\x00\\x00\\x00\\x00\\x00\\x00\\x00\\x00\\x00\\x00\\x00\\x00\\x00\\x00\\x00\\x00\\x00\\x00\\x00\\x00\\x00\\x00\\x00\\x00\\x00\\x00\\x00\\x00\\x00\\x00\\x00\\x00\\x00\\x00\\x00\\x00\\x00\\x00\\x00\\x00\\x00\\x00\\x00\\x00\\x00\\x00\\x00\\x00\\x00\\x00\\x00\\x00\\x00\\x00\\x00\\x00\\x00\\x00\\x00\\x00\\x00\\x00\\x00\\x00\\x00\\x00\\x00\\x00\\x00\\x00\\x00\\x00\\x00\\x00\\x00\\x00\\x00\\x00\\x00\\x00\\x00\\x00\\x00\\x00\\x00\\x00\\x00\\x00\\x00\\x00\\x00\\x00\\x00\\x00\\x00\\x00\\x00\\x00\\x00\\x00\\x00\\x00\\x00\\x00\\x00\\x00\\x00\\x00\\x00\\x00\\x00\\x00\\x00\\x00\\x00\\x00\\x00\\x00\\x00\\x00\\x00\\x00\\x00\\x00\\x00\\x00\\x00\\x00\\x00\\x00\\x00\\x00\\x00\\x00\\x00\\x00\\x00\\x00\\x00\\x00\\x00\\x00\\x00\\x00\\x00\\x00\\x00\\x00\\x00\\x00\\x00\\x00\\x00\\x00\\x00\\x00\\x00\\x00\\x00\\x00\\x00\\x00\\x00\\x00\\x00\\x00\\x00\\x00\\x00\\x00\\x00\\x00\\x00\\x00\\x00\\x00\\x00\\x00\\x00\\x00\\x00\\x00\\x00\\x00\\x00\\x00\\x00\\x00\\x00\\x00\\x00\\x00\\x00\\x00\\x00\\x00\\x00\\x00\\x00\\x00\\x00\\x00\\x00\\x00\\x00\\x00\\x00\\x00\\x00\\x00\\x00\\x00\\x00\\x00\\x00\\x00\\x00\\x00�UKo�0\\x0c�\\x0f�\\x7f0t\\x1db��0\\x0cC�\\x1e���\\x05H\\x06�XL,D/�L����J\\x1a\\x0cE\\x1e\\x0bl\\x14�X�%~\\x0f�\\x16G�\\x1bg�gHh���M9\\x14\\x05�:h㗕�5�1�*\\n$嵲�C%���~���h���\\x05G{�DC\\x14�I�u\\x03Na\\x19\"x�Y��\\x14�kZʨ�Z��\\x1d\\x0e��:x\\x02O\\x03j1�x�\\x08\\x0b��T|��睒��x\\u061dk�*�b��V�B�ׯH\\x06a�05�P�\\x1dC�\\x18\\x13(�\\r\\x009[�d�1M�����G9\\x13X��t���,\\x0c\\x1b\\x13�\\x13[?���v�����HFC1Q���c�rc埐V�\\x10V�y�kS�ST:e���3��0ʼ��,����/� �1���]B��@����}�=�^bnT\\x02=%��e�\\x02�ž�r5�\\x0cHj��˞A���k��~;+\\r���\\x10���\\x03h�\\x07�\\x0c\\x1c~�c�\\x7fD�m����\\x1dh���\\x1a���M�S$���/Wv\\x1b=��U�\\x03#���n��q\\x1a��ܻn�)�G�e\\x1e��\\x00\\x00\\x00��\\x03\\x00PK\\x03\\x04\\x14\\x00\\x06\\x00\\x08\\x00\\x00\\x00!\\x00\\x13^�e\\x02\\x01\\x00\\x00�\\x02\\x00\\x00\\x0b\\x00\\x08\\x02_rels/.rels �\\x04\\x02(�\\x00\\x02\\x00\\x00\\x00\\x00\\x00\\x00\\x00\\x00\\x00\\x00\\x00\\x00\\x00\\x00\\x00\\x00\\x00\\x00\\x00\\x00\\x00\\x00\\x00\\x00\\x00\\x00\\x00\\x00\\x00\\x00\\x00\\x00\\x00\\x00\\x00\\x00\\x00\\x00\\x00\\x00\\x00\\x00\\x00\\x00\\x00\\x00\\x00\\x00\\x00\\x00\\x00\\x00\\x00\\x00\\x00\\x00\\x00\\x00\\x00\\x00\\x00\\x00\\x00\\x00\\x00\\x00\\x00\\x00\\x00\\x00\\x00\\x00\\x00\\x00\\x00\\x00\\x00\\x00\\x00\\x00\\x00\\x00\\x00\\x00\\x00\\x00\\x00\\x00\\x00\\x00\\x00\\x00\\x00\\x00\\x00\\x00\\x00\\x00\\x00\\x00\\x00\\x00\\x00\\x00\\x00\\x00\\x00\\x00\\x00\\x00\\x00\\x00\\x00\\x00\\x00\\x00\\x00\\x00\\x00\\x00\\x00\\x00\\x00\\x00\\x00\\x00\\x00\\x00\\x00\\x00\\x00\\x00\\x00\\x00\\x00\\x00\\x00\\x00\\x00\\x00\\x00\\x00\\x00\\x00\\x00\\x00\\x00\\x00\\x00\\x00\\x00\\x00\\x00\\x00\\x00\\x00\\x00\\x00\\x00\\x00\\x00\\x00\\x00\\x00\\x00\\x00\\x00\\x00\\x00\\x00\\x00\\x00\\x00\\x00\\x00\\x00\\x00\\x00\\x00\\x00\\x00\\x00\\x00\\x00\\x00\\x00\\x00\\x00\\x00\\x00\\x00\\x00\\x00\\x00\\x00\\x00\\x00\\x00\\x00\\x00\\x00\\x00\\x00\\x00\\x00\\x00\\x00\\x00\\x00\\x00\\x00\\x00\\x00\\x00\\x00\\x00\\x00\\x00\\x00\\x00\\x00\\x00\\x00\\x00\\x00\\x00\\x00\\x00\\x00\\x00\\x00\\x00\\x00\\x00\\x00\\x00\\x00\\x00\\x00\\x00\\x00\\x00\\x00\\x00\\x00\\x00\\x00\\x00\\x00\\x00\\x00\\x00\\x00\\x00\\x00\\x00\\x00\\x00\\x00\\x00\\x00\\x00\\x00\\x00\\x00\\x00\\x00\\x00\\x00\\x00\\x00\\x00\\x00\\x00\\x00\\x00\\x00\\x00\\x00\\x00\\x00\\x00\\x00\\x00\\x00\\x00\\x00\\x00\\x00\\x00\\x00\\x00\\x00\\x00\\x00\\x00\\x00\\x00\\x00\\x00\\x00\\x00\\x00\\x00\\x00\\x00\\x00\\x00\\x00\\x00\\x00\\x00\\x00\\x00\\x00\\x00\\x00\\x00\\x00\\x00\\x00\\x00\\x00\\x00\\x00\\x00\\x00\\x00\\x00\\x00\\x00\\x00\\x00\\x00\\x00\\x00\\x00\\x00\\x00\\x00\\x00\\x00\\x00\\x00\\x00\\x00\\x00\\x00\\x00\\x00\\x00\\x00\\x00\\x00\\x00\\x00\\x00\\x00\\x00\\x00\\x00\\x00\\x00\\x00\\x00\\x00\\x00\\x00\\x00\\x00\\x00\\x00\\x00\\x00\\x00\\x00\\x00\\x00\\x00\\x00\\x00\\x00\\x00\\x00\\x00\\x00\\x00\\x00\\x00\\x00\\x00\\x00\\x00\\x00\\x00\\x00\\x00\\x00\\x00\\x00\\x00\\x00\\x00\\x00\\x00\\x00\\x00\\x00\\x00\\x00\\x00\\x00\\x00\\x00\\x00\\x00\\x00\\x00\\x00\\x00\\x00\\x00\\x00\\x00\\x00\\x00\\x00\\x00\\x00\\x00\\x00\\x00\\x00\\x00\\x00\\x00\\x00\\x00\\x00\\x00\\x00\\x00\\x00\\x00\\x00\\x00\\x00\\x00\\x00\\x00\\x00\\x00\\x00\\x00\\x00\\x00\\x00\\x00\\x00\\x00\\x00\\x00\\x00\\x00\\x00\\x00\\x00\\x00\\x00\\x00\\x00\\x00\\x00\\x00\\x00\\x00\\x00\\x00\\x00\\x00\\x00\\x00\\x00\\x00\\x00\\x00\\x00\\x00\\x00\\x00\\x00\\x00\\x00\\x00\\x00\\x00\\x00\\x00\\x00\\x00\\x00\\x00\\x00\\x00\\x00\\x00\\x00\\x00\\x00\\x00\\x00\\x00��MK\\x031\\x10���!̽;�*\"�l/E�Md�\\x011��`7������FAt��\\x1ez��w�y��f��x�\\x10{v\\x12�E\\t��fӻV�K���\\x07\\x11�rF��H\\x81\"l���3�*���>��⢄.%��\\x18uGVł=�\\\\i8X�r\\x18Z�J\\x0f�%\\\\��\\x1d��\\x1aP�4��H\\x08;s\\x03�>����67M�i�zoɥ#+��DΐY���B��5�V��$��~����\"c\\x03\\x1e\\'Z����k�RRF%��\\x03����8\\x05���Es\\x13\\x7fܙF|�0�2\\x0f�Xn/ɢ�1�=c�W�7\\x12�\\u07b2�\\x00\\x00\\x00��\\x03\\x00PK\\x03\\x04\\x14\\x00\\x06\\x00\\x08\\x00\\x00\\x00!\\x00��kU\\x1f\\x01\\x00\\x00�\\x04\\x00\\x00\\x1a\\x00\\x08\\x01xl/_rels/workbook.xml.rels �\\x04\\x01(�\\x00\\x01\\x00\\x00\\x00\\x00\\x00\\x00\\x00\\x00\\x00\\x00\\x00\\x00\\x00\\x00\\x00\\x00\\x00\\x00\\x00\\x00\\x00\\x00\\x00\\x00\\x00\\x00\\x00\\x00\\x00\\x00\\x00\\x00\\x00\\x00\\x00\\x00\\x00\\x00\\x00\\x00\\x00\\x00\\x00\\x00\\x00\\x00\\x00\\x00\\x00\\x00\\x00\\x00\\x00\\x00\\x00\\x00\\x00\\x00\\x00\\x00\\x00\\x00\\x00\\x00\\x00\\x00\\x00\\x00\\x00\\x00\\x00\\x00\\x00\\x00\\x00\\x00\\x00\\x00\\x00\\x00\\x00\\x00\\x00\\x00\\x00\\x00\\x00\\x00\\x00\\x00\\x00\\x00\\x00\\x00\\x00\\x00\\x00\\x00\\x00\\x00\\x00\\x00\\x00\\x00\\x00\\x00\\x00\\x00\\x00\\x00\\x00\\x00\\x00\\x00\\x00\\x00\\x00\\x00\\x00\\x00\\x00\\x00\\x00\\x00\\x00\\x00\\x00\\x00\\x00\\x00\\x00\\x00\\x00\\x00\\x00\\x00\\x00\\x00\\x00\\x00\\x00\\x00\\x00\\x00\\x00\\x00\\x00\\x00\\x00\\x00\\x00\\x00\\x00\\x00\\x00\\x00\\x00\\x00\\x00\\x00\\x00\\x00\\x00\\x00\\x00\\x00\\x00\\x00\\x00\\x00\\x00\\x00\\x00\\x00\\x00\\x00\\x00\\x00\\x00\\x00\\x00\\x00\\x00\\x00\\x00\\x00\\x00\\x00\\x00\\x00\\x00\\x00\\x00\\x00\\x00\\x00\\x00\\x00\\x00\\x00\\x00\\x00\\x00\\x00\\x00\\x00\\x00\\x00\\x00\\x00\\x00\\x00\\x00\\x00\\x00\\x00\\x00\\x00\\x00\\x00\\x00\\x00\\x00\\x00\\x00\\x00\\x00\\x00\\x00\\x00\\x00\\x00\\x00\\x00\\x00\\x00\\x00\\x00\\x00\\x00\\x00\\x00\\x00\\x00\\x00\\x00\\x00\\x00\\x00\\x00\\x00\\x00\\x00\\x00\\x00\\x00��Mk�0\\x0c�������$�1��2\\x06�n\\x1d�j\\x1c��v��m��3\\x19kR(�%�b��_=����}�6�\\x04��5��q�\"0�\\x16��\\x04{?��=�\\x08I�B�ր`= ��7�Wh%�KX7\\x1dF^Š`5Q��9�\\x1a���v`|��NK�x\\'�QV��$�p7�`��f�/\\x04s���?������-�F��U\\'\\r�����d��n��t\\x15�`q<fyC�ױGf�:�jN\\x1a���v�Q~�P����X�h�9i�\\x7f\\x19\\x18�\\x18B>�i�!���˺#�\\x004r�SȇJ\\x10f���d!k\\ue5e6\\tz��urj�x#���t���?k�Ŧ�\\x7f\\x00\\x00\\x00��\\x03\\x00PK\\x03\\x04\\x14\\x00\\x06\\x00\\x08\\x00\\x00\\x00!\\x00����5\\x02\\x00\\x00�\\x04\\x00\\x00\\x0f\\x00\\x00\\x00xl/workbook.xml�T�n�0\\x10�\\x17�?\\x08�;\\x12\\x15)q\\x04KAb�h��\\x08�<.��)�\"̇JR����ޕ\\x14�n}I�^�%�\\x1a��,9��+\\x19|��\\t�sBO\"\\x12p�L)�&\\'\\x0f�\\x1f&S\\x128\\x0f�\\x04i4��3w�x�n�3v�6f\\x1b �v9��o�0t��\\n܉i�Ɲ�X\\x05\\x1e�v\\x13��r(]\\u0379W2���,T 4\\x19\\x102�\\x16\\x0cSU��a���\\x0f �K�X��E�F4��\\x02��n�f\\x8cj\\x10b-���=(\\t\\x14�n6�XXK���鈌�\\x11�\\x12�\\x1ag*\\x7f�P�P�\\x11_\\x1a��\\x0e��Y%$\\x7f\\x1cd\\x0f�i>��N�$����\\x14��99é���\\x16l�\\\\�B�.M�8\"a�ӊ[\\x1b���V�{4a����4��.\\x13I]Iϭ\\x06��F{��U�\\x7fիǞ�\\x06�\\t���VX�M��V��\\x0b,���\\x05_\\x07��9�g�\\x07��W���\\x16�m�iVO�=�V\\x07bñ�\\x7f!7��w�ć��O\\x11�Y�ʏ���/9�i�\\x7f\\x12�4����x>�w��(}�����?�}�bS��Li��g\\x1f@�͏G�c�{ӿt\\x17��-�ƛ�u�\\t\\x0c�MI{��7\\x06�����%�4Ni�������\\x0cG�W��&��yt�L��i:I�\\x17�d��Ɠy�����r��N��ߖF���U説��{\\x0bl�o�\\x1d���a�\\x0f��N4b�:\\x1c�*~\\x00\\x00\\x00��\\x03\\x00PK\\x03\\x04\\x14\\x00\\x06\\x00\\x08\\x00\\x00\\x00!\\x00�w\\x03��\\x01\\x00\\x00W\\x05\\x00\\x00\\x14\\x00\\x00\\x00xl/sharedStrings.xmllTMo�0\\x0c�\\x0f�\\x7f\\x10t_�d]1\\x14��4]2\\x04K\\x1a �\\x1dY�I�I�\\'J]�林\\x1b0�>�\"������Y������\\x1e_��Bj}g�8�\\x0f�Ň�Zq\\x04��z©~A�7��w5sT�.�T�b쯫��\\x13:�\\x0b�#���\\x07\\x071\\x1fñ�> t|B��V���r`H��\\'�S}9\\x19_i���J8\\x7f�>�tS�i���@\\x08u\\x15��:�߰e��j\\x07\\x16�,�\\x19~\\x1d+\\n���l~ \\x13�\\x1co���\\x06J\\x07hc\\n�\\x0b�\\r�Ųe�G�\\x14\\x05��Zu��\\x10�����\\x1c��(�}���\\x0f�Ş��\\n�Ъ�\\t�Ъ-�HYE�\\x05D1m�)��&�G\\x14�NF�匌]��\\x1c\\x08:\\x18\"\\x13;��y++\\x7fP3��7ѷ\\x08@��%f�Ћ�\\x01�M�Kt�Ձ �\\x17�\\x18��5��TΘe���]\\x0c]%\\x12$��\\x15}�tL,݀}�!����\\x07$�d����\\x1dķ�\\x1fL��\\x1c�k�͑��c\\x0cO��ἜC4���(J���.��G�\\x10\\x02f\\x0b\\x0b�φ�~)��\\x02���;Z���B�\\x1c!c���/��6?Y�M~�J��-\\rי�J��9\\n\\x03�M\\x12���V�al�\\x00\\x00\\x00��\\x03\\x00PK\\x03\\x04\\x14\\x00\\x06\\x00\\x08\\x00\\x00\\x00!\\x00A��`�\\x00\\x00\\x00�\\x01\\x00\\x00#\\x00\\x00\\x00xl/worksheets/_rels/sheet1.xml.rels���N�0\\x0c@�H�C�;I�\\x03Bh�.\\x08iW\\x18\\x1f�n\\x1b�:Ql\\x10�{�v��$.�,����}-���\"1���6`�C�#�\\x1e�\\x0e�w\\x0f`D�{�\\x13��\\x13\\t�ۛ�\\x0bͨuH���T\\n��I5?:\\'a�\\x05ŦL\\\\;C*\\x0bjM��2�w\\x1c�m��ޕ�\\x0c�VL��=�}�\\x01s8��ov\\x1a�\\x18�)���X��p�Ǚ*\\x10�H���sEΡ�U\\x16�u��?=r��T^I�\\x1eZVF\\x17=w���\\x18�Gҭ>�}\\x03\\x00\\x00��\\x03\\x00PK\\x03\\x04\\x14\\x00\\x06\\x00\\x08\\x00\\x00\\x00!\\x00��nX�\\x06\\x00\\x00�\\x1a\\x00\\x00\\x13\\x00\\x00\\x00xl/theme/theme1.xml�Yϋ\\x1b7\\x14�\\x17�?\\x0csw�kfl/�\\x06{lg��&!�䨵e����\\x19ɻ1!P�c�P��^\\n��P�\\x06\\x12�%�k�MiSȿ�\\'��#��n�n -Y�2�����7ߓ4\\x17/ݍ�s�SNX�v�\\x17*���\\x11\\x1b�d�vo\\x0e\\x07���p��1�,�mw��{i���.�-\\x11�\\x18;�?�[��FB̶�e>�f�/�\\x19N�ل�1\\x12p�N��\\x14\\x1d�ݘ�k�JP�\\x11I\\\\\\'A1��6��\\x11v�Ҥ��4ާp�\\x08.\\x1bF4ݗ���CaǇU��\\x0b\\x1e��9B���8cv<�w��P�\\x05<h�\\x15�疷/��Vމ�\\r}�~\\x03����;�\\x0fkj�tz�\\x1a��|/��+\\x00\\x15�~�\\x1f�=\\x05@�\\x11�4�����n�ϱ\\x1a(����5z�������8w|�3�\\n������A\\x08^4�\\n��}�O\\x1a��3�\\n��5|���y\\r\\x03�@\\x11%��\\x1a��\\x07�p9�\\x15d��\\x15��A��\\x1b/P�\\r��CLX\"6�Z��t\\x00\\x00\\t�H��\\x11�\\x19��\\x11dq�(9H��K�\\x11$�\\x0c%�Cs�V\\x19T��_�<u�<��0�zK^���5I>\\x0e\\x1f�d&��`�� /�}���\\x13���\\'\\x0f��<����Ó\\x07?f���;(��\\x1d_|�ٟ_\\x7f����\\x17���㹎���O~��s;\\x10&[x����\\x7f{���W����#\\x0b���\\x03\\x1d>$1��U|��`1�My�d�\\x0f�\\x7f�c\\x18!b�@\\x11ض���\\x00^] j�u��[)\\x08�\\rxy~��\\x1f�sA,#_�b\\x03��\\x18���+r,���y2�\\x0f��u�\\r��lc�(1B۟�@Y��d\\x18a��u�\\x12��8�\\x91��!Ɩ��&���\\x1e\\x19����pn\\x13����%Cr`$R�i��\\x10��� �����-�˨m�=|d\"�@�B~�����h.Pl39D1�\\x1d��Dd#��HG:��\\x05Dz�)s�c̹�ϵ\\x14�\\x05�\\n��=�{t\\x11��T�C��]Ę���0B��ʙ$����\\x1fB�\"�:\\x136�\\x1e3�\\x10y\\x0fq@��p�\"�\\x08��Bp\\x13tU�T$�|2O-�����>.�\\x04a�2 ����$9S�O���NԳ�tZ�;)��Z;��|\\x13�?(�=4O�cxg�\\x0b�;�~����^�7���څP��\\x17�u�v�7.�\\'��}��x���;��4\\x1e@��V���j+7��2�(\\x18�i�T\\x1f\\'e�#\"��\\x08�`�_U\\x1b�)�MO�3c\\x1cV��Ym��)�j�0���8۱V�rw��\\x07G�h���v�m�\\x0c\\x1d4�]�ʼ��N�nyI@��\\'$��L\\x12u\\x0b�Ʋ\\x11��w$��΅E�¢)�/C����\\x15@m\\x15\\x15X?9��j����\\x04��\\nQ<�q�\\x0e\\x05�ѕ�9�Hor&�3\\x00\\x16\\x13�\\x0c(\"ݒ\\\\7NO�.K�W��ABK7����\\x11\\x1a�<;����u�\\x08�AO�b�6\\x144\\x1a�7\\x11k)\"���&�R��9n�A݇ӱ\\x11���\\t���2�A�p��Et\\n�g#�f/��(�,墇x�9\\\\�N�\\x061\\x118u(�ۮ��*\\x1bh�4Dq��@\\x10�Zr-����\\x1c\\x04�\\x0c2�L�H�a�Z���[P�L+�OU��\\x07˞l\\x0e�ޏ���\\x01��7\\x10��ߨJ\\x07�\\t�\\x03�j��1�\\x13͕�\\x15�w�0岫\\x1f)�\\x1c��\\x11�E(�(��gp%�+:�n�\\x03�.�38t݅\\x07SY`�u�=�TK�i�Y�LCUdմ��+�\\x1a���\\x1a�2�V�\\x06^h]k�u���*qF�}���Q+\\x063�I��2,5;o5���@�D��o�\\x1aa���V~�w:ke�X�+U�O\\x1f��\\tvp\\x07ģ\\x07��s*�\\n%|{H\\x11,����L6�\\x15�+�5\"\\\\9��{\\x15��5?,U�~��սJ��wꥎ�\\u05eb}�Z�uk����(���g�\\x01�G�E��E��}���Gn\\x17F,.3������\\x0f0���\\x0f0\\x0e\\x01ѹ\\x17�\\x06�z�\\x1b�Z�Π����R+\\x0c��^\\x106z�^�7[���s��^�\\x1ezA�Y\\n�aX\\U000822a4�l�\\x1a^���\\x1a�f���ϗ10�L>r_�{\\x15��\\x00\\x00\\x00��\\x03\\x00PK\\x03\\x04\\x14\\x00\\x06\\x00\\x08\\x00\\x00\\x00!\\x00\\x1c\\x05�)C\\x04\\x00\\x00l\\x1a\\x00\\x00\\r\\x00\\x00\\x00xl/styles.xml�\\x19]o�6�}����\\x0cC;L�d[��XNk;\\x06\\ntE�d�\\x1e\\x02\\x04�D�D��JTjm�\\x7fߑ�-:Yb�[\\x1f\\x06�E\"�����H\\x0e/\\u05cc:\\x0f8/��\\x1b�\\x07��y\"R�\\x17������N!\\x11O\\x11\\x15\\x1c�n�\\x0b�r��w�BV\\x14_/1�\\x0e��E�.�\\\\\\r|�H����\\\\�0��L�\\x0cI��\\x0b�X�\\x18��Bb�o\\x05A�g�p�P\\x18��\\x10\"\\x0c����K\\x04[!I�\\x12YiZ�Ò��\\x05\\x179�S`u\\x1dvP���;O�3��\\x10�<\\x07r��2��\\\\���\\x0f�FC^�\\x19�������mmA�\\x19y��n��:F�H���W?~*�����~r�~>;\\x0b\\u0383���œ��W���\\x7f\\x185\\x14<��\\x04�ܽv�\\rg\\x16\\x1ba�\\x11\\x1f�O���u�\\x03�.�(\\x1c�\\x16g4�\\x04o�j�ʔ�\\x06�\\\\|�35\\x04�\\x01��Y�a��(@BE#\\x11T䎄\\x1d\\x07Q5�#�͌\\t�d�\\x135-C��ʀ[\\n�����\\x08l�fȬ�?X�%�}�M��P�c*\\n0\\x1a��J��\\x19t��}S�@{\\x1c��hA��3{��*lE\\x16��\\x17\\x1c\\r�\"O��7F�v\\u0380FC�3\\t���b��R��;\\x17R��)A\\x0b�\\x11U����\\x1b\\x05�4��Z���َT�̲:�\\x1eJz�\\x07�\\t��MC�t��\\x0e��\\x18�\\x15>��ՊV�\\x1c5mӃ\\x05��X\\x0b���R��\\x0c�\\x08\\x1fs!q\"u�\\x0b��l����|a\\x00��r\\x01�u�_���S��*,��o�\\x7f����\\x18b\\x1fJ6��L���aw��ac�\\x16~)U\\x1d��c��ٴ�7\\x1b�\\x17��\\x19Z\\x1c\\x1eL�2\\x0f߯o�������\\n\\x07\\x1b�^5��\\t�� �\\x13b�>��\\x12��2ϡH� QiG\\x03��%��p��u^�D�\\x1a僲x�A\\x00�-�G�\\x00�H�M�\\x0b#�\\x01\\x00�俹�b\\x1a�X�B���hz0\\x11<ż�Ax-1O-$QJJ�=�X�T|������\\x0eP�I\\x1d�\\x0cx�\\n�(��5���Lf�\\x03+��u|W���mL\\x19��s�\\x1a�X�\\'֡�Oc\\x1cƭN\\nj�\\x06��؍�LI^U�\\x109y�Q��c� \\'�OYS�)\\x1cQMu���͟l�x�P\\'\\x7fW\\x1a�3�T���\\x02q{���d�3TRy�\\x1d�ݦ�+NI��&����<\\x08�I�n�~�n3î*��|���;j�;eNb�ϫ�/��լ���q��q����ԋ:��t:�\\x07�`��F�/^\\x08�K\\x06\\\\\\x17��AA�\\x1d!�����n`�ku\\x0c��\\x08\\x00lۼ�[��m\\x14\\x06ެ\\x1d�^��z^�ێ�Y\\x14�����*�E\\x16����\\x1e\\x06~\\x18�g\\x18�|4���+�]�ol(l\\x12t_\\x10����<\\x13��\\x06\\x00\\x00��\\x03\\x00PK\\x03\\x04\\x14\\x00\\x06\\x00\\x08\\x00\\x00\\x00!\\x00�`J-5\\x00\\x01\\x00�e\\x06\\x00\\x18\\x00\\x00\\x00xl/worksheets/sheet1.xml�}]�\\x1c7�����\\x7f��}��ߙ2Ik+�\\x14�]]ݴ��x��ֈ6��#9����\\x17HDV��\\x03�H���J��\\x08���\\x01�\\x11\\x00���\\x7f~���?�>\\x7f�����^V���\\x17O������������?O�6�|����\\x7f~�ۧߟ�{���//�����߾����}�����\\x0b�����^����\\x1f\\u07fcz����O\\x1f�}9|���w������w_�\\x7f~��/\\x7f|~z��\\\\��o���\\x7f��݇�_F\\x0f�|.���_>�\\x7f�����\\x1f�~�\\x1a�|~���Wi��_?��e���}����>���\\x7f���O\\x1f�\\x10\\x17?}����\\x7f�N_�����ۿ����~���Ϫ}�~�=�\\x0fr����ϟ�|���Aܽ�\\r��<��^����������/>?�������y;\\x1c�����v������/�\\x7f�����|����ק��C�|��>}����߅ƍ]�?\\x1fB��\\x16���#����߂�[)v�z��NB���\\x7f����\\x1f�~\\x13�C/����-���F���\"��E��������_�������ӟo�>��ׯ�4i��A������/��3IŇ�\\x0b^�\\x7f�M\\\\��}��C��t�\\x7f������_\\x7f���\\x0f��U]/�\\x17?=}�z�\\x10|�|���_�~��\\x7f\\x14����Z�ȿ�K�\\x1f���T��J�F\\x0bʿ���C�\\x1e�ʿ|�W�[�\\x156�Uo����ph�n\\x18�v\\x14z�\\x16�]\"�~n�s�h��;D���C��\\ue8f0M���\\x7f/���\\x0e~nR�;\\t)s����%͛ԟ����y����J���/9Tǩ\\x19�\\x14}��Jm���I��i�]U-�\\x0e���\\x19���Z�\\x1e��i��&�ni�\\x16�W@w��#_�����\\x10>�c������B���\\x03QU�r�߫\\x18��\\x10x��������\\x172@����ǻ0�U߄*�@\\'\\x11.��C�\\x12��H��������!����~Hm�1�\\x18����ĵx3`�\\x1b��-B��Val�X<EtX�5#\\x1a\\x03yÐ\\n��2�FĝS�i�ف��{\\x07� �\\x12!�ɮ]Z��<D�D�g�������\\x15��\\x10\\t�W/�+����%a�\\x0e.\\t��Y�\\x1eg��\\x00FK�P�!�h�Đ�|��3���\\x1a\\x0f�t���\\x19`:�uj�M��@��\\x19��6�\\x1b��F�sj\\x0f�6��߰_���\\x7fT[����!���+\\u061d�ܝ���x\\x1b!)K��\\x16\\x02M$`\\uf809��4\\x01��폡�\\r�0�h��\\x0ei�\\x0f>Ų>IR\\x1b�\\x04�}k�ݒd��9�W�fS�~�~��<I��\\'\\tw&�$BJH\"��\\x0e�\\x08�J\\x12\\x13\\n~Hm�1�\\x18���\\x08C�#�̑�\\x1a��S,�s$�%\\x7f*s�{\\x03\\x05�\\x02Ij�\\x1c�({N�͖#а�8\\x19�%�\\x17�\\x0c��\\x04\\x0f�\\x1e9bB�#wfm o#��#a�Z>wI\\'\\x1f�#���q$T��\\x11�\\x10G��#�h)\\x12��\\x14ImD\\x1106\\r���n)�Q��ڥɖ!��m�Hr��<A��\\'\\x08�$\\x11$BJ\\x08\\x12$�r��S)K��f{��P�\\x06A\\x18B\\x04��U��o�\\x14��\\x0cIm�\\x10(8\\x1c;;\\x1bI�!\\x1beϩ=��R\\x04\\x1aV7��K��9\\x12�>G�3�#\\x11R�\\x11���\\x08x��V0�(\\x12�� \\tC�$C��t����bY�$`�_�Mj��#��\\x00K���g�{j\\x1a�%)�j����\\x12\\x01\\x0bS��,�\\x1e�]�$f\\x05�������\\x10�v��kP���I���\\x04�d�)�\\x1a�\\x14\\x03�a\\x081%v�D��X4\\x12Ů�S\\x1bE\\x1306��ߦvK�����.M��$5���4�\\x12��I�dz�!�c���/�dm o#�� �\\x0e� ���W6f\\x12�\\x03\\x18�\\x028Գ�\\x10�\\x10C�8k���\\x14��\\x14ImVox�\\x1a�c]�vߦvK�����>t��\\x02��������_�=?�D�?�p_�x\\x13!%\\x1c\\tb�\\x1e�M���op�l�����\\r�8\\x18\"�`��W��/뤥}���V�`m��\\x0e\\x0c�\\x00�l�*}\\x06@h��)[��\\x02�Q��\\x19�_�4�)bM\\x10�v贩\\x0eZ��\\x12��g���\\'X����a�DVT����t�5��9S��\\x19�����ٵ�-\\x00�5��K��t�[}�\\x1e�o&\\x1a�\\x14�B�E�u$�G�[�4,�愶�Ų�4��jg,�ו3�\\x02�kڊ4\\x05���\\t��,���\\x0cg@�$Q\\x1f�Ug\\x1d\\x04��3\\x1b��P�[\\n\\x01�r�B\\nX!M��ZI��{&M�:\\x1b����&�`M(�!�z\\x0e4�\\'�\\x08�v�;�\\x06�Ł&J�2�w��k�\\x0cm@\\r��7��6M5�ƛ�\\x0eZ\\x13k���upFL5�=\\rT��65��N\\x16\\x02�v����8T���G��k�y����j�t\\x1b�[�\\x1c1��\\x00F�:�zK\\x04*�o��\\x10u��js���3:�i;\\x11tV+�����8�\\x16q\\x0b\\x08\\n;��:��XA3u��\\x00�\\x1d&\\x0b�(�ʛ�6\\x10S-��Σ�N���`�*��7A��1�\\x01��J1a�}e��*cC�a\\x0cG�(��Ukb�)ԟgNj4�\\x7f\\x03%��X�or\\x0b\\x00�\\r(�\\\\���CC�\\x06��z�\\x0b)up��h��\\x0f\\nP��l$�\\x118C���\\x02o�X�ÙTƥ�*5ڥ�sM[3�\\x02�W��X��8UL)֠�J#UjnC��\\x1d�֤^�i1�9��\\x08��\\x18�\\x0c4o��_��\\x99�5a�A\\x01*�\\x19��^�\\x1b�[�@�y�\\x08`��\\n�ߎ@���i1Th��\\x7f�k�\"\\rK�\\x1cg���[��\\x15d\\x06(�V�3�u��2����z�3�K�M�I�7��*zZ>/�* ��z�ne_�\\x14�L���\\n�]\\x1a��JsbG�5\\x1en�\\x7f�@g�Ğ��}�º67�_��%\\x1bЎG^{�I�ຣ�g�z���o�/j����ݖV�v�\\x1d�\\x1c\\x1d�\\x18S.\\x04W���\\x00��/������K�)\\x10���y\\x0el�WN�OY��V�\\x7f�V�1�\\x16��-~\\x0b�)�l�>Ci�\\x18�(�:hG�Y��+�IUa����a*C�)ׅ�}�p��w\\x0f�J�s�*���������\\x16̬��\\x0e���D\\x19�Z�\\x0f��.\\x02\\x00,i�J�\\x01�l$���IP@^�Q��\\x0b;�Jj�bJ��z�.\\x1c�+I����\\\\�\\x16k�tR\\x13\\x14�\"~fiWN�`\\x10>i\\r9֤�-%\\x14���M\\'���\\x1a�� ޠw.~��LjH�\\x01�hÔ\\x18��\\x15ꬩ��\\x07`ꔫ��>u8�W\\x02\\x0eX��\\\\�\\x16u\\n�a�3/�z3�>i\\x059�<L�&�J2��Y�\\x05�D���glXu4��{�7��&y�=��)�W��~\\'eO1E�f�4\\\\��k��`�iM�n\\x0eQ\\x0e��MԆG�R���\\x1ccR��*4PT\\x12��\\x11\\x01�\\x13aR�\\\\�\\x0c��֮���Cob�E�yIO\\x01�0V�s��$=�\\x14\\x11f�\\x14\\\\�R�]i���x�u�/\\x05R��\\t\\x11�kM\\x08;i\\x059��j-e�@�Q6��:\\x03v\"L�\\x0b�����N��^\\x0fv�xQ�U��]��\\x00_�s���z�bJ��p�q�\\x11�t�m�\\x0e�����\\\\�\\u0590T \\x01��@���z��\\x1caR����\\x03(\\\\7rX�&3�\\x03�Lj\\U0010a7f1u��o\\x12o��\\x13��.V�\\x13=d��}��q����W�\\x13�\\x03<��\\x06#�L��K��\\x02!Xjѭn3!9Ϳ%��F�]q�U�\\x1fQV\\r\\x00�7���>Ci��&�\\x06[\\'�3U\\\\\\x14��>P@�5N�/�����z�\\x12\\x1c�+��U)x�j+�\\x14H��g^=U��\\x00�\\x1ar\\x01\\'U\\\\iF�\\x1aǣ��ނk\"�z�3\\x14�\\x06�Ѥ��z�\\x19M�_�`����\\x15d6\\x0f���{^o\\x15S4�٧\\x05\\u05ebZ0ZI�)Ђ��--X03eh_椥s�I�\\\\g������$�1jM\\x0f����g@���\\x1b�����阁\"���`s�\\x15�]d��N�6t�ё�s��>Y�Nea��C��z\\n��\\tq�.,~f]������\\x1cw@��%7X��=�}\\x0b�)�l�>C�z�����>�G�Ը�}�4�.l?̣��L\\x1aG\\x18ΐ��\\'\\x0c\\x07xvj\\x03F��k�\\x18�<�]t\\x0bf��T6�䤥3�A��ڀ���\\x86\\x1b\\x00X�l�>\\x03����\\t�i�@S\\x1b\\x05\\\\�\\x13�6�( �i��lc�\\x13\\x14S��j�)�\\x01��۠�\\x0eTsU[�)P���<P������\\x1coR햏[���7�m\\tΉ7\\x1b���4i:�&� j\\x11mC���f�\\x02r��eޔ���>Y8�Wx�*\\x0b�Um�@\\x16\\x16?3o�T�\\u0590�\\r����8(잌\\x03\\x041\\'��\\x15?C��;\\x1c���N�)b�<i�\\x1d�\\x1f�O��)O\\x1en�)�\\x01�B��J��*C\\x1e35��04X�\\x05\\x0f�d\\x17TZZ�c\\x1b�\\x1a�vE�e�mgEb\\x00\\x10u �K���7?�\\x1e�$\\x15��c�~\\x1d��2\\x10\\x05h�1�\\x12N��M\\x0f�\\'�,��}*q�_Ic���H*�\\\\�\\x16g\\nTb�\\x13\\x07*�Yt�\\x1a��\\x01��2Ρ��dъ�\\x16\\x10D\\x1b�\\x19v���\\x02�\\x04���\\x02b:Z�_ԞϙP��f�|\\x00���V1E��\\'\\x177�\"L�)��-�`��)\\n7\\x05z���s�ޔ>i\\rY�z,����u7� ~\\x0b\\x00\"\\x0e��\\\\�\\x0c��5&T�c�e=g�\\uf880+m茮\\x02\"m�!]��键b�h�O,n 1���\\x0fh%�8J0Ѧ@-�Z2I\\x13��k�yţ\\x14H�<�A��5\\x01��8[��P�͚\\x00��5���;|�\\x02��\\x1b5�f��rF1E��\\'\\x197��\\x1e�D+qǑ��;\\x05���\\x12�ǔs\\x1e�_�\\x0e�q\\x16�\\x06\\x0b;G1\\x01@�\\x01��QL(�\\x1c��ꝣ�\\nX�MlB�6ܱ�l�5\\x14�f�lܤ�1�q@S��_(�9P\\x15���g\\x1e��0�Ik�\\x0eT��KG\\x11�@i�Ӓ�i�v8 �7(Js�3VЌ��\\x03-l+:ū.��Tt.J\\x01~\\x12��\\x05(�B1E��\\'\\x1a7�hL�\\x01E�t\\x1cG\\x0f��S�\\x19K\\x13�4-�7�\\n�o�:4=\\tG$\\x00�f�\\x0b�\\'�l�>C��9���S.j���t�E\\x01��*��\\x03\\x15mT)�D�k���\\x01�=�\\tF���̪�\\x08�7\\x1eƮ�\\x053G\\x1c�\\x7f<i�\\x18qh��5�9�\\x02���H�[@X�l\\x16?\\x03B�l��{@Hf*��uQD~]�\\x00\\x7f]�t/��\\x14S\\x12r�}�q��SC�j\\'9sU[�)Ў�O\\x1c�\\x1a��\\x11�a;\\x03~�\\rXF33�\\x01�Hǝ��\\x06\\x00D\\x1d\\x10���\\x19J�-��V\\x1b�˂���1\\x15p��؈�H\\x1b������`�*��6���6\\x15�m�\\x1f\\x18��NG\\x15��S�\\x1cK-q5�7w��\\x13r �؎T��ׁ���L\\x01Ě��gp���\\t�������X����j\\\\]R)��6�D�6���6�(S�q2��6\\x05Y�҄@\\x1b��3����\\x1dր�K�\\x01�s�\\'x\\'�l�>Ci�RO�;�z�}�3�\\x05\\x19�p��ͯ�q�O3\\x0e��F\\x03Z�-ZsU[#T�h,~�2ܦ������&�u9\\x0f\\x07JwM�R\\x1e\\x0e �7�w��\\x19�7�+J[〨�����E\\x11\\u05f91e\\x19+ ����>:���E\\x15S45�\\'\\x1b�i��Y�`�q�Q�)�\\x14��R�fTX�8Կ\\x16qR�35N�}�9S�\\x14A��*~��u�@Ib����(8�p)�\\x1a�\\x1b\\'\\x14��\\x0ew/s\\'b�\\x06�}�q��\\x1d��.ǃ�*9D�\\x02�X�d�*��l�I�]ʫ�\\x8d�W\\x01\\x00�\\x0e(�\\\\�\\x0c�����-�E\\x01��q\\x05d�*�\\ue9edq�\\x14\\x11\\'\\x08��N���n:��F,�.m��M�8*�9��\\x1f�IK+ql&�k0;#V��N\"\\x00��\\x06p@��*~��q̧\\x1b�\\x07��\\x0bM-\\x17E�,�c32\\x0br�^^�GL\\x11y���-(�v�\\x01�V?\\x0eVK\\x0c�\\x1fw�aH��?���y\\x15Z:K\\x1eԏ�<��Mk�;o�;Qg��\\x19Jwcgf\"�`��n0�wQ�ʂ<6!� ���\\x05y�\\x14�f�tܮI�`�7\\x12�u�5\\x05ұ�\\t!�������:��YW��t\\'\\x07�\\x1a��\\x0f0ĝԿ����\\x1cyX��\\x1f!/��m~\\nY�PlI�B��L��)�P�OF\\x0e��B\\x0b�vؚ�2\\x0b-\\x1by<��<���\\x1d��XK�\\x18�f��߀ջ�\\x18\\x00�=[��\\x00�.,�\\x02\\\\\\x14�_�+�_�;=�/oċC�x�OB�Vӏ�jU�`݊=\\x1e�x�\\x1apo��NZ:˛T浙�P��ƣ���\\x02�h\\x03��\\\\�\\x0c�GZx߃�i\\x06+ ������C\\x15\\x10Ic~ܣӭt��b�H�O@�R\\x01���j�9��I�\\x02\\x05Y�ĕykW�ZC�4���\\x132X���5��\\x00 ֠xM��PZ� ��\\\\`�����\\\\\\n��+��!w:�v�\\x15SD�}\\x02r\\x07\\x1a�]Z��h��4F\\x15(�R�<F�1�P���CK+0S�I�:�8�0�f��\\x19\\n;�8��|�S���8��T@f{\\\\����)��>\\x01�[��\\x02���ʏ��\\x19i\\n�c�\\x13(×@j\\x05�@�z7\\x05\\x14v��\\x04;Q&uͅ�Pع\\x06\\x12��5�j�+8\\n�(8Nϓ���\"�쓍�����\\x1f�JSaG\\x136�\\x7f\\x13<X^\\x19\\t�/��3q&J���:�1�_���\\x0cH�\\x03\\x11�\\x16J�C//�O����zg��D�!\\x1c��\\x7f��x�vO��s�M�\\x06���\\'����C\\x07!ԝ2�\\x1c�p>\\x01\\x1d�PL\\x11��i�]�-ۍP0ҾD�Z�\\x10�\\x1c\\x0c�+v\\\\]O�.7�!�/HZ�\\x1b�PV6��Ğ\\x05\\x1cL�\\x9d\\x01\\x1c\\'y\\x19 � ~�3��o1]q�?���5w\\x17E�C\\x05�ʡ�iH9TL\\x11��ȸ�L�Is#�R�b��~����\\x10�4_Y\\x12��\\x05�Z:G��;Z)h���\\x18�\\x05�C}8&t�&�\\x17x�\\x1dσ� ��_�7 �O��i\\ty����=������2�A\\x01�R�����t�t�V1E��\\'Fw F\\x13��J�r�h��\\x1a�o���y�[�OZx���q0Ջ�R��m\\x07�\\x0e�\\x05�m{��;\\x03��C\\x1d.b�\\x7f��n�ɞ�3?�iּ]\\x14}�Z�+\\x18\\x1e\\x14�\\x03��\\x18��t��@1E��\\'Tw�P�S+��]�PvkW��P��J�<�MC_*\\x14s\\x12�:τ���T�$\\x16��`\\x01w�}\\x12\\x1d�`\\x07�3@��^�\\x00�$\\x1d\\x06\\x17ϴ�7T*�:���.\\x05D\"ٓ]NO��.Ŕ�ߧV\\x07x>q\\x15�V\\t��2w���u�`�K!\\x7f\\x11LT���\\x19-\\x1d�b:�5\\x18�8 Xk���Z��N��\\x0cB^\\n9\\x1c�\\x128��ă3����\"~���e= �̡d���M\\n��MN_ӼI1ELڧ_���5X�${���d��o\\x1c\\x0c3i\\x19�lD<i�\\x0c� I�N\\x08BYQ\\ny��\\x10�]��\\x1e�D3t��}�\\x0e?\\'\\r:�����,{\"\"\\x1f��\\x12?\\x0e9�KqH1E��\\'d� d�)\\x12Z)\\x0e�H��q�l;�I-��-7U�Yw��9�\\x19���hgH`���^o|k\\x01\\x07��3\\x08���0�jΈ�%�\\r\\x1by\\x0f�V\\u07b3�p�<ٶ#���[\"\\n�DԘ�?�%��\"&�Ӷ{жm�\\x07Z��(X7㐣m\\x13��\\x1b5Ht�\\x1a2q\\x08\\x12��\\x08\\x14�\\x06���\\x02H\\x130����4\\x01@�\\r�\\x04��걩V�]\\x14}�\\x14�0* Rʦ�:\\x1f�R\\x18\\x15SD�}�w�v�\\x06\\x18I�\\x0e�MF9�71*J�r?�\\rM�\\x1amC\\x13\\x08�tن6.��������\\x05\\u0604�;\\x04\\x1cG�(9\\x03�\\x11e�JK\\x00��A9\\x1dD\\x11\\x0bw豍\\x07\\x05d����܉\\x18�N�2�~�\\x06\\x1e�+\\x13l�ڵ�\\\\��\\x04�@\\x03\\x17?����\\x17�NZC&\\x1c�*7O�SkS\\x1f�\\t�[�]\\x1f\\x0f\\x16q�\\x08\\ti���\\x18=\\x03f<�-�{�\\x0by��|\\\\\\x14�\\x12{�o���{��\\x131E�g���C�4\\rg`�i!��f�)и�O�\\x0f]�\\x7f�\\n2�\\x01��F��:ɔ�\\x1c�\\x07�Su��;\\x038\\x1e\\x0f�\\x16�3@d\\th�����K^\\n��(�\\x1az�D�\\x022[��\\x170��b�bO\\x10]˥�>�i�m��Wd�R�1�\"�Jvk��S�>?�\\x06#�\\r\\x0fe�V�/��+u\\x10\\x10vA�v\\t��\\x1bg��Y��\\x03�nj�⢀\\x15��V��|\\x02�N�\\x14qg�fݯj�`e�\\x1e��)Ь��Y\\x18�\\x13Wv֓\\n�$\\x0c���� Z��<\\x1blc�E�\\x07\\x11���쩅>zfx/����\\'E��E�$��rQ/W��rF\\x14�#��)�D\\x11S4x�S��U�\\x1a�4�a��I�(�4s�*��gk>�)ԟ\\x0fA`d\\x12��AN�3�,�I\\x04��\\x1f�4�=C\\x1b�-:�v\\x0f�j��2�\\tt��J\"+N>�\\x13%����jM窔E��\\x12\\x12\\r�$�\\x00�^�\\x0cF\\nDsMf\\x02m&I7\\x0e�F1��\\x13hy��\\x04\"-\\x1dg@�`��Ho�U�:�Ӑ\\x16p0��;\\x04�\\x0b�\\t\\x0b�Z�oc\\x10�Q4n���aj�(:/1*��\\x18��&�Q1E<�\\'P\\x0f�@mgC`�U|�ډ4������H��<j��\\x12\\'�!�#Чi:\\x04e�ɹ݅\\x10f:����\\x01���\\x1b���{@TǱj�� E\\\\���\\x0e\\x05D�؛:�o@�:\\x14SD�}����O�Վd��ɞ\\x02}Z���� �76\\x0e�\\n5�!H�6\\x11��6O�9t\\x1c���T\\x1e��ɥ��\\x19wr@-���l@K\\x16�\\x1d��\\r�\\x1d�\\x15w\\x17E�k\\x05�µ�H�VL\\x11��\\t��jR6Z�p\\x1d��\\x14+\\x10��O܊%�Qk�\\x04�T��[ P��G�\\x17��#�s\\x08�G�\\x03�d\\x1b*�8�\\x08�M\\'J�Z����4���\\x14\\x10id8��|\\x0c��WL\\x11����C*V�0�\\x1ay�s�j\\x1a�\\n�ji�<̵Vq9��]��\\x14�@��a.5\\x0f�(Ъ\\x1f�\\x07�\\x1d��C5��w�\\u086f�\"\\x11�/��^ɓ�6SM}��j\\x05�j�\\x1aa��|���)Y�\\x0f���\\x00��,\\x0eF&\\x0fˤ6��fn�9�Hs�(VKV�\\x1d�R����Z�ͧՊc�\\x1ae�l\\x00�\\x16p��;��\\r���P9\\x03f��}d\\x00���>.\\nɫF\\n�,��.�;\\x14\\x15Sğ}j����\\rF�OABv��(�y\\x08���NZZsDl�#Z�@�\\\\]�\\x03\\x0fb\\x06��\\x18\\x02D��A\\x0cs\\x9d�Z\\n�\\x1d`q���l>����b���<( 2�.����l\"�\\x14�bA�,��\\x07�i�A�j�A�u+���P$R�j�o�:r\\\\J�4\\x1fJ�M%i�����N�U��0_ϑ9\\x10rgЕ�\\x1e��y\\x13�q���u�ӏ�\\x07���R�uw�g�\\t�(zeY\\x17k�,��c�.b�h�O�\\x1eR��^\\x15\\x0cF�W��mxz\\x13<l�+]�НhZ8G1Ԏ)^����\\x0cx\\x06�\\x0cx)Bf˒-�\\x03\\x1e`���\\x14P\\x0f�7�Eȕ?�\\x11�\\x1e�#b?�?�G���оb���O�\\x1eR���\\x03�7�\\x02�vM�)з�\\t���h�HBۮsm;^�F+���y��\\x0e�0��\\x05��\\x07\\x10C#���\\x1f��9�{hG=u�㢐\\x15��J2��.f�DL\\t\\x7f�}�v�g��`$m{�i��0\\x0fcG9��%��bOZ:\\x13��J\\x04\\x02�L�8\\x02\\x11�)d ���� \\x04U#=Kx\\x0f�~l� ���p�\\x00_8r���#�\\x14�h��=�¶=\\x05\\tF��(X��J\\x1e�H\\x14I2X����s\\x1c��f;�aY�\\x1f�1�\\x02\\x0e\\x16qg\\x10G���SCg��/�+~�7}\\x1d\\\\<Ϻ�ȭ�+�(�Q\\x01����k�5RL\\x11����#��6�\\x08�6�(X7�T r�\\x1f?�H+�1)ը)W\\r�:�F���F\\x06�%\\x1b\\x01�I6\\x02��l����_\\x01����\\th�\\x18 O&�q�\\'_\\x07x��\\x040�Tz�ik(+P��Ϭ;�\\x13JF;�\\x1ar�I�e�\"\\x16\\n��e�&a�\\x10FxD{/��M\\x16\\x01�L��\\x01\\x05�\\tM�ل�\"���t�Q\\x01J\\x1f{���\\nt�Q1E�g�l=�2m\\x17�h�S�`\\u074c=\\x05�����é\"ZC�? \\\\S�\\x08\\x14vsE\\x08A�\"��sE\\x00�����sE\\x14��\\x15Q@&W��\\x16�+��\"\\x16�ӯGȧ&\\x16�f[���E��������8\"�k�\\x10��V�T�\\x11k�i�:\\x0c���\\x05\\x1c�#�ǣ���!��$kH�(�����\\x11@7�8���\\x110�h���s���KF\\n�%#�#�d��\"�퓸GH�&��V^�9�5Q�@�6�@%�Q�0̹&��~�e߄\\x1fv�\\x0bj�\\x07�\\x0erh?X��qp\\x1c\\x0f���8\\x03D��&\\x1a�u��xH.-���E�]iDwB( ��\\x0c��j��6�y��\"\\x1a\\x05��\\\\�\\x1eS�V9\\x02#�6\\x15�����P�����\\x0b�XXG;zPS�_̴l�ҕ\\\\yO�6�pV�\\x08i%u��#l�ܜO��\\x00�i{G>RH~�_\\x01�^��-h�_1E$�\\'_�k�5\\x18y��H�\\x14�\\n�k�%�\"ޮ\\r�?ˏL�u�\\x1aJ{\\x1b�\\x16�P\\x08���ݰ\\x05/ކ-\\x00�\\r[����bCr�6�d^�ELѪm��=�FM�\\x19Xm�Q(�\\x19�\\n\\x14l�3O�E���\\x19H�̡�l�ٴu\\x1a��ޮ�n-�`\\x11w\\x06ц��iDC�]\\x0e�ۙQ\\nh��xc2��=[��J��\\x0c\\r\\x0f\\nȭḻy\\r��\\x19\\t`ڧf\\x07x��k�Z�h�j�!\\x0fc\\x075��d��\\x11-��kz\\x04\\x0f̖K`�F{��\\x1f,��\\x00DC���\\x11��t�{���z�f��[�\\x14}���;i\\x14\\x10yd�q:�\\x12�\\x15S2�M���\\x00_�\\x11XmL��ڢQA���\\t4�چ����,��/\\x13��r����\\x7f\\tA\\x13�;����B(;�:c;�e#�m\\x03b����\\\\\\x14�_�)�_�9���j�)\"�>={J�l;�\\x06#M��Վm�o���P8R9�v��p�E�g�96����-��G��l�#����_�n�+$�=�\\x00\\x7f{��cڞUL\\x11��i�S�i\\x13� _�j���&�\\n4m��o�k\\x05Y\\x02a�4\\x11(5{������G����\\x18g\\x7f\\x1f\\x7f�����\\x15\\x02�ߒ!\\x10�1\\x13(b�\\x08�O՞֒��H[���I�\\x02Q[��#\\x19=�\\x15d\\t������N�F�\\x17\\x11�l�\\x18{=ڧ}ψhE���k@���\\x0c̓��oǪ\\x07\\x7f;��\\x06�\\x1d��\"��\\x13��T����`$�1X7��`h��Z6\\x1f��\\n��I�n�Q���\\x01~BX�.�!t�\\x1f=x\\x07��78\\x07�\\x15�_�+ ��w>\\x02��\\x15S������\\x01�2�^թ窶f�\\x05:���\\'��\\x00�\\u0590�O�\\x03��yPZn3�#���\\x1d5�p��\\x03F\\x1ex�#���\\x1c�W�uG���+ G#�h\n\n*** WARNING: max output size exceeded, skipping output. ***\n\nn's Mountain Shorts, S\\t$26.18\\tBlack\\tShorts\\tClothing\\t#000000\\t#FFFFFF\\r\\n475\\tWomen's Mountain Shorts, M\\t$26.18\\tBlack\\tShorts\\tClothing\\t#000000\\t#FFFFFF\\r\\n476\\tWomen's Mountain Shorts, L\\t$26.18\\tBlack\\tShorts\\tClothing\\t#000000\\t#FFFFFF\\r\\n531\\tLL Mountain Frame - Black, 42\\t$136.79\\tBlack\\tMountain Frames\\tComponents\\t#000000\\t#FFFFFF\\r\\n532\\tLL Mountain Frame - Black, 44\\t$136.79\\tBlack\\tMountain Frames\\tComponents\\t#000000\\t#FFFFFF\\r\\n533\\tLL Mountain Frame - Black, 48\\t$136.79\\tBlack\\tMountain Frames\\tComponents\\t#000000\\t#FFFFFF\\r\\n534\\tLL Mountain Frame - Black, 52\\t$136.79\\tBlack\\tMountain Frames\\tComponents\\t#000000\\t#FFFFFF\\r\\n550\\tLL Mountain Frame - Black, 40\\t$136.79\\tBlack\\tMountain Frames\\tComponents\\t#000000\\t#FFFFFF\\r\\n556\\tLL Crankset\\t$77.92\\tBlack\\tCranksets\\tComponents\\t#000000\\t#FFFFFF\\r\\n557\\tML Crankset\\t$113.88\\tBlack\\tCranksets\\tComponents\\t#000000\\t#FFFFFF\\r\\n558\\tHL Crankset\\t$179.82\\tBlack\\tCranksets\\tComponents\\t#000000\\t#FFFFFF\\r\\n584\\tRoad-750 Black, 58\\t$343.65\\tBlack\\tRoad Bikes\\tBikes\\t#000000\\t#FFFFFF\\r\\n596\\tMountain-500 Black, 40\\t$294.58\\tBlack\\tMountain Bikes\\tBikes\\t#000000\\t#FFFFFF\\r\\n597\\tMountain-500 Black, 42\\t$294.58\\tBlack\\tMountain Bikes\\tBikes\\t#000000\\t#FFFFFF\\r\\n598\\tMountain-500 Black, 44\\t$294.58\\tBlack\\tMountain Bikes\\tBikes\\t#000000\\t#FFFFFF\\r\\n599\\tMountain-500 Black, 48\\t$294.58\\tBlack\\tMountain Bikes\\tBikes\\t#000000\\t#FFFFFF\\r\\n600\\tMountain-500 Black, 52\\t$294.58\\tBlack\\tMountain Bikes\\tBikes\\t#000000\\t#FFFFFF\\r\\n604\\tRoad-750 Black, 44\\t$343.65\\tBlack\\tRoad Bikes\\tBikes\\t#000000\\t#FFFFFF\\r\\n605\\tRoad-750 Black, 48\\t$343.65\\tBlack\\tRoad Bikes\\tBikes\\t#000000\\t#FFFFFF\\r\\n606\\tRoad-750 Black, 52\\t$343.65\\tBlack\\tRoad Bikes\\tBikes\\t#000000\\t#FFFFFF\\r\\n211\\tHL Road Frame - Red, 58\\t$868.63\\tRed\\tRoad Frames\\tComponents\\t#FF0000\\t#FFFFFF\\r\\n212\\tSport-100 Helmet, Red\\t$12.03\\tRed\\tHelmets\\tAccessories\\t#FF0000\\t#FFFFFF\\r\\n213\\tSport-100 Helmet, Red\\t$13.88\\tRed\\tHelmets\\tAccessories\\t#FF0000\\t#FFFFFF\\r\\n214\\tSport-100 Helmet, Red\\t$13.09\\tRed\\tHelmets\\tAccessories\\t#FF0000\\t#FFFFFF\\r\\n220\\tSport-100 Helmet, Blue\\t$12.03\\tBlue\\tHelmets\\tAccessories\\t#0000FF\\t#FFFFFF\\r\\n218\\tMountain Bike Socks, M\\t$3.4\\tWhite\\tSocks\\tClothing\\t#FFFFFF\\t#000000\\r\\n219\\tMountain Bike Socks, L\\t$3.4\\tWhite\\tSocks\\tClothing\\t#FFFFFF\\t#000000\\r\\n221\\tSport-100 Helmet, Blue\\t$13.88\\tBlue\\tHelmets\\tAccessories\\t#0000FF\\t#FFFFFF\\r\\n222\\tSport-100 Helmet, Blue\\t$13.09\\tBlue\\tHelmets\\tAccessories\\t#0000FF\\t#FFFFFF\\r\\n223\\tAWC Logo Cap\\t$5.71\\tMulti\\tCaps\\tClothing\\t#BC8F8F\\t#000000\\r\\n224\\tAWC Logo Cap\\t$5.23\\tMulti\\tCaps\\tClothing\\t#BC8F8F\\t#000000\\r\\n225\\tAWC Logo Cap\\t$6.92\\tMulti\\tCaps\\tClothing\\t#BC8F8F\\t#000000\\r\\n226\\tLong-Sleeve Logo Jersey, S\\t$31.72\\tMulti\\tJerseys\\tClothing\\t#BC8F8F\\t#000000\\r\\n227\\tLong-Sleeve Logo Jersey, S\\t$29.08\\tMulti\\tJerseys\\tClothing\\t#BC8F8F\\t#000000\\r\\n228\\tLong-Sleeve Logo Jersey, S\\t$38.49\\tMulti\\tJerseys\\tClothing\\t#BC8F8F\\t#000000\\r\\n229\\tLong-Sleeve Logo Jersey, M\\t$31.72\\tMulti\\tJerseys\\tClothing\\t#BC8F8F\\t#000000\\r\\n230\\tLong-Sleeve Logo Jersey, M\\t$29.08\\tMulti\\tJerseys\\tClothing\\t#BC8F8F\\t#000000\\r\\n231\\tLong-Sleeve Logo Jersey, M\\t$38.49\\tMulti\\tJerseys\\tClothing\\t#BC8F8F\\t#000000\\r\\n232\\tLong-Sleeve Logo Jersey, L\\t$31.72\\tMulti\\tJerseys\\tClothing\\t#BC8F8F\\t#000000\\r\\n233\\tLong-Sleeve Logo Jersey, L\\t$29.08\\tMulti\\tJerseys\\tClothing\\t#BC8F8F\\t#000000\\r\\n234\\tLong-Sleeve Logo Jersey, L\\t$38.49\\tMulti\\tJerseys\\tClothing\\t#BC8F8F\\t#000000\\r\\n235\\tLong-Sleeve Logo Jersey, XL\\t$31.72\\tMulti\\tJerseys\\tClothing\\t#BC8F8F\\t#000000\\r\\n236\\tLong-Sleeve Logo Jersey, XL\\t$29.08\\tMulti\\tJerseys\\tClothing\\t#BC8F8F\\t#000000\\r\\n237\\tLong-Sleeve Logo Jersey, XL\\t$38.49\\tMulti\\tJerseys\\tClothing\\t#BC8F8F\\t#000000\\r\\n238\\tHL Road Frame - Red, 62\\t$747.97\\tRed\\tRoad Frames\\tComponents\\t#FF0000\\t#FFFFFF\\r\\n239\\tHL Road Frame - Red, 62\\t$722.26\\tRed\\tRoad Frames\\tComponents\\t#FF0000\\t#FFFFFF\\r\\n240\\tHL Road Frame - Red, 62\\t$868.63\\tRed\\tRoad Frames\\tComponents\\t#FF0000\\t#FFFFFF\\r\\n241\\tHL Road Frame - Red, 44\\t$747.97\\tRed\\tRoad Frames\\tComponents\\t#FF0000\\t#FFFFFF\\r\\n242\\tHL Road Frame - Red, 44\\t$722.26\\tRed\\tRoad Frames\\tComponents\\t#FF0000\\t#FFFFFF\\r\\n243\\tHL Road Frame - Red, 44\\t$868.63\\tRed\\tRoad Frames\\tComponents\\t#FF0000\\t#FFFFFF\\r\\n244\\tHL Road Frame - Red, 48\\t$747.97\\tRed\\tRoad Frames\\tComponents\\t#FF0000\\t#FFFFFF\\r\\n245\\tHL Road Frame - Red, 48\\t$722.26\\tRed\\tRoad Frames\\tComponents\\t#FF0000\\t#FFFFFF\\r\\n246\\tHL Road Frame - Red, 48\\t$868.63\\tRed\\tRoad Frames\\tComponents\\t#FF0000\\t#FFFFFF\\r\\n247\\tHL Road Frame - Red, 52\\t$747.97\\tRed\\tRoad Frames\\tComponents\\t#FF0000\\t#FFFFFF\\r\\n248\\tHL Road Frame - Red, 52\\t$722.26\\tRed\\tRoad Frames\\tComponents\\t#FF0000\\t#FFFFFF\\r\\n249\\tHL Road Frame - Red, 52\\t$868.63\\tRed\\tRoad Frames\\tComponents\\t#FF0000\\t#FFFFFF\\r\\n250\\tHL Road Frame - Red, 56\\t$747.97\\tRed\\tRoad Frames\\tComponents\\t#FF0000\\t#FFFFFF\\r\\n251\\tHL Road Frame - Red, 56\\t$722.26\\tRed\\tRoad Frames\\tComponents\\t#FF0000\\t#FFFFFF\\r\\n252\\tHL Road Frame - Red, 56\\t$868.63\\tRed\\tRoad Frames\\tComponents\\t#FF0000\\t#FFFFFF\\r\\n262\\tLL Road Frame - Red, 44\\t$181.49\\tRed\\tRoad Frames\\tComponents\\t#FF0000\\t#FFFFFF\\r\\n263\\tLL Road Frame - Red, 44\\t$187.16\\tRed\\tRoad Frames\\tComponents\\t#FF0000\\t#FFFFFF\\r\\n264\\tLL Road Frame - Red, 48\\t$181.49\\tRed\\tRoad Frames\\tComponents\\t#FF0000\\t#FFFFFF\\r\\n265\\tLL Road Frame - Red, 48\\t$187.16\\tRed\\tRoad Frames\\tComponents\\t#FF0000\\t#FFFFFF\\r\\n266\\tLL Road Frame - Red, 52\\t$181.49\\tRed\\tRoad Frames\\tComponents\\t#FF0000\\t#FFFFFF\\r\\n267\\tLL Road Frame - Red, 52\\t$187.16\\tRed\\tRoad Frames\\tComponents\\t#FF0000\\t#FFFFFF\\r\\n268\\tLL Road Frame - Red, 58\\t$181.49\\tRed\\tRoad Frames\\tComponents\\t#FF0000\\t#FFFFFF\\r\\n269\\tLL Road Frame - Red, 58\\t$187.16\\tRed\\tRoad Frames\\tComponents\\t#FF0000\\t#FFFFFF\\r\\n270\\tLL Road Frame - Red, 60\\t$181.49\\tRed\\tRoad Frames\\tComponents\\t#FF0000\\t#FFFFFF\\r\\n271\\tLL Road Frame - Red, 60\\t$187.16\\tRed\\tRoad Frames\\tComponents\\t#FF0000\\t#FFFFFF\\r\\n272\\tLL Road Frame - Red, 62\\t$181.49\\tRed\\tRoad Frames\\tComponents\\t#FF0000\\t#FFFFFF\\r\\n273\\tLL Road Frame - Red, 62\\t$187.16\\tRed\\tRoad Frames\\tComponents\\t#FF0000\\t#FFFFFF\\r\\n274\\tML Road Frame - Red, 44\\t$352.14\\tRed\\tRoad Frames\\tComponents\\t#FF0000\\t#FFFFFF\\r\\n275\\tML Road Frame - Red, 48\\t$352.14\\tRed\\tRoad Frames\\tComponents\\t#FF0000\\t#FFFFFF\\r\\n276\\tML Road Frame - Red, 52\\t$352.14\\tRed\\tRoad Frames\\tComponents\\t#FF0000\\t#FFFFFF\\r\\n277\\tML Road Frame - Red, 58\\t$352.14\\tRed\\tRoad Frames\\tComponents\\t#FF0000\\t#FFFFFF\\r\\n278\\tML Road Frame - Red, 60\\t$352.14\\tRed\\tRoad Frames\\tComponents\\t#FF0000\\t#FFFFFF\\r\\n288\\tHL Mountain Frame - Silver, 42\\t$623.84\\tSilver\\tMountain Frames\\tComponents\\t#C0C0C0\\t#000000\\r\\n289\\tHL Mountain Frame - Silver, 42\\t$660.91\\tSilver\\tMountain Frames\\tComponents\\t#C0C0C0\\t#000000\\r\\n290\\tHL Mountain Frame - Silver, 42\\t$747.2\\tSilver\\tMountain Frames\\tComponents\\t#C0C0C0\\t#000000\\r\\n291\\tHL Mountain Frame - Silver, 44\\t$706.81\\tSilver\\tMountain Frames\\tComponents\\t#C0C0C0\\t#000000\\r\\n292\\tHL Mountain Frame - Silver, 48\\t$706.81\\tSilver\\tMountain Frames\\tComponents\\t#C0C0C0\\t#000000\\r\\n293\\tHL Mountain Frame - Silver, 46\\t$623.84\\tSilver\\tMountain Frames\\tComponents\\t#C0C0C0\\t#000000\\r\\n294\\tHL Mountain Frame - Silver, 46\\t$660.91\\tSilver\\tMountain Frames\\tComponents\\t#C0C0C0\\t#000000\\r\\n295\\tHL Mountain Frame - Silver, 46\\t$747.2\\tSilver\\tMountain Frames\\tComponents\\t#C0C0C0\\t#000000\\r\\n307\\tHL Mountain Frame - Silver, 38\\t$623.84\\tSilver\\tMountain Frames\\tComponents\\t#C0C0C0\\t#000000\\r\\n308\\tHL Mountain Frame - Silver, 38\\t$660.91\\tSilver\\tMountain Frames\\tComponents\\t#C0C0C0\\t#000000\\r\\n309\\tHL Mountain Frame - Silver, 38\\t$747.2\\tSilver\\tMountain Frames\\tComponents\\t#C0C0C0\\t#000000\\r\\n310\\tRoad-150 Red, 62\\t$2,171.29\\tRed\\tRoad Bikes\\tBikes\\t#FF0000\\t#FFFFFF\\r\\n311\\tRoad-150 Red, 44\\t$2,171.29\\tRed\\tRoad Bikes\\tBikes\\t#FF0000\\t#FFFFFF\\r\\n312\\tRoad-150 Red, 48\\t$2,171.29\\tRed\\tRoad Bikes\\tBikes\\t#FF0000\\t#FFFFFF\\r\\n313\\tRoad-150 Red, 52\\t$2,171.29\\tRed\\tRoad Bikes\\tBikes\\t#FF0000\\t#FFFFFF\\r\\n314\\tRoad-150 Red, 56\\t$2,171.29\\tRed\\tRoad Bikes\\tBikes\\t#FF0000\\t#FFFFFF\\r\\n315\\tRoad-450 Red, 58\\t$884.71\\tRed\\tRoad Bikes\\tBikes\\t#FF0000\\t#FFFFFF\\r\\n316\\tRoad-450 Red, 60\\t$884.71\\tRed\\tRoad Bikes\\tBikes\\t#FF0000\\t#FFFFFF\\r\\n317\\tRoad-450 Red, 44\\t$884.71\\tRed\\tRoad Bikes\\tBikes\\t#FF0000\\t#FFFFFF\\r\\n318\\tRoad-450 Red, 48\\t$884.71\\tRed\\tRoad Bikes\\tBikes\\t#FF0000\\t#FFFFFF\\r\\n319\\tRoad-450 Red, 52\\t$884.71\\tRed\\tRoad Bikes\\tBikes\\t#FF0000\\t#FFFFFF\\r\\n320\\tRoad-650 Red, 58\\t$413.15\\tRed\\tRoad Bikes\\tBikes\\t#FF0000\\t#FFFFFF\\r\\n321\\tRoad-650 Red, 58\\t$486.71\\tRed\\tRoad Bikes\\tBikes\\t#FF0000\\t#FFFFFF\\r\\n322\\tRoad-650 Red, 60\\t$413.15\\tRed\\tRoad Bikes\\tBikes\\t#FF0000\\t#FFFFFF\\r\\n323\\tRoad-650 Red, 60\\t$486.71\\tRed\\tRoad Bikes\\tBikes\\t#FF0000\\t#FFFFFF\\r\\n324\\tRoad-650 Red, 62\\t$413.15\\tRed\\tRoad Bikes\\tBikes\\t#FF0000\\t#FFFFFF\\r\\n325\\tRoad-650 Red, 62\\t$486.71\\tRed\\tRoad Bikes\\tBikes\\t#FF0000\\t#FFFFFF\\r\\n326\\tRoad-650 Red, 44\\t$413.15\\tRed\\tRoad Bikes\\tBikes\\t#FF0000\\t#FFFFFF\\r\\n327\\tRoad-650 Red, 44\\t$486.71\\tRed\\tRoad Bikes\\tBikes\\t#FF0000\\t#FFFFFF\\r\\n328\\tRoad-650 Red, 48\\t$413.15\\tRed\\tRoad Bikes\\tBikes\\t#FF0000\\t#FFFFFF\\r\\n329\\tRoad-650 Red, 48\\t$486.71\\tRed\\tRoad Bikes\\tBikes\\t#FF0000\\t#FFFFFF\\r\\n330\\tRoad-650 Red, 52\\t$413.15\\tRed\\tRoad Bikes\\tBikes\\t#FF0000\\t#FFFFFF\\r\\n331\\tRoad-650 Red, 52\\t$486.71\\tRed\\tRoad Bikes\\tBikes\\t#FF0000\\t#FFFFFF\\r\\n344\\tMountain-100 Silver, 38\\t$1,912.15\\tSilver\\tMountain Bikes\\tBikes\\t#C0C0C0\\t#000000\\r\\n345\\tMountain-100 Silver, 42\\t$1,912.15\\tSilver\\tMountain Bikes\\tBikes\\t#C0C0C0\\t#000000\\r\\n346\\tMountain-100 Silver, 44\\t$1,912.15\\tSilver\\tMountain Bikes\\tBikes\\t#C0C0C0\\t#000000\\r\\n347\\tMountain-100 Silver, 48\\t$1,912.15\\tSilver\\tMountain Bikes\\tBikes\\t#C0C0C0\\t#000000\\r\\n352\\tMountain-200 Silver, 38\\t$1,117.86\\tSilver\\tMountain Bikes\\tBikes\\t#C0C0C0\\t#000000\\r\\n353\\tMountain-200 Silver, 38\\t$1,265.62\\tSilver\\tMountain Bikes\\tBikes\\t#C0C0C0\\t#000000\\r\\n354\\tMountain-200 Silver, 42\\t$1,117.86\\tSilver\\tMountain Bikes\\tBikes\\t#C0C0C0\\t#000000\\r\\n355\\tMountain-200 Silver, 42\\t$1,265.62\\tSilver\\tMountain Bikes\\tBikes\\t#C0C0C0\\t#000000\\r\\n356\\tMountain-200 Silver, 46\\t$1,117.86\\tSilver\\tMountain Bikes\\tBikes\\t#C0C0C0\\t#000000\\r\\n357\\tMountain-200 Silver, 46\\t$1,265.62\\tSilver\\tMountain Bikes\\tBikes\\t#C0C0C0\\t#000000\\r\\n368\\tRoad-250 Red, 44\\t$1,518.79\\tRed\\tRoad Bikes\\tBikes\\t#FF0000\\t#FFFFFF\\r\\n369\\tRoad-250 Red, 48\\t$1,518.79\\tRed\\tRoad Bikes\\tBikes\\t#FF0000\\t#FFFFFF\\r\\n370\\tRoad-250 Red, 52\\t$1,518.79\\tRed\\tRoad Bikes\\tBikes\\t#FF0000\\t#FFFFFF\\r\\n371\\tRoad-250 Red, 58\\t$1,320.68\\tRed\\tRoad Bikes\\tBikes\\t#FF0000\\t#FFFFFF\\r\\n372\\tRoad-250 Red, 58\\t$1,554.95\\tRed\\tRoad Bikes\\tBikes\\t#FF0000\\t#FFFFFF\\r\\n381\\tRoad-550-W Yellow, 38\\t$605.65\\tYellow\\tRoad Bikes\\tBikes\\t#FFFF00\\t#000000\\r\\n382\\tRoad-550-W Yellow, 38\\t$713.08\\tYellow\\tRoad Bikes\\tBikes\\t#FFFF00\\t#000000\\r\\n383\\tRoad-550-W Yellow, 40\\t$605.65\\tYellow\\tRoad Bikes\\tBikes\\t#FFFF00\\t#000000\\r\\n384\\tRoad-550-W Yellow, 40\\t$713.08\\tYellow\\tRoad Bikes\\tBikes\\t#FFFF00\\t#000000\\r\\n385\\tRoad-550-W Yellow, 42\\t$605.65\\tYellow\\tRoad Bikes\\tBikes\\t#FFFF00\\t#000000\\r\\n386\\tRoad-550-W Yellow, 42\\t$713.08\\tYellow\\tRoad Bikes\\tBikes\\t#FFFF00\\t#000000\\r\\n387\\tRoad-550-W Yellow, 44\\t$605.65\\tYellow\\tRoad Bikes\\tBikes\\t#FFFF00\\t#000000\\r\\n388\\tRoad-550-W Yellow, 44\\t$713.08\\tYellow\\tRoad Bikes\\tBikes\\t#FFFF00\\t#000000\\r\\n389\\tRoad-550-W Yellow, 48\\t$605.65\\tYellow\\tRoad Bikes\\tBikes\\t#FFFF00\\t#000000\\r\\n390\\tRoad-550-W Yellow, 48\\t$713.08\\tYellow\\tRoad Bikes\\tBikes\\t#FFFF00\\t#000000\\r\\n391\\tLL Fork\\t$65.81\\tNA\\tForks\\tComponents\\t#DCDCDC\\t#000000\\r\\n392\\tML Fork\\t$77.92\\tNA\\tForks\\tComponents\\t#DCDCDC\\t#000000\\r\\n393\\tHL Fork\\t$101.89\\tNA\\tForks\\tComponents\\t#DCDCDC\\t#000000\\r\\n394\\tLL Headset\\t$15.18\\tNA\\tHeadsets\\tComponents\\t#DCDCDC\\t#000000\\r\\n395\\tML Headset\\t$45.42\\tNA\\tHeadsets\\tComponents\\t#DCDCDC\\t#000000\\r\\n396\\tHL Headset\\t$55.38\\tNA\\tHeadsets\\tComponents\\t#DCDCDC\\t#000000\\r\\n397\\tLL Mountain Handlebars\\t$17.98\\tNA\\tHandlebars\\tComponents\\t#DCDCDC\\t#000000\\r\\n398\\tLL Mountain Handlebars\\t$19.78\\tNA\\tHandlebars\\tComponents\\t#DCDCDC\\t#000000\\r\\n399\\tML Mountain Handlebars\\t$24.99\\tNA\\tHandlebars\\tComponents\\t#DCDCDC\\t#000000\\r\\n400\\tML Mountain Handlebars\\t$27.49\\tNA\\tHandlebars\\tComponents\\t#DCDCDC\\t#000000\\r\\n401\\tHL Mountain Handlebars\\t$48.55\\tNA\\tHandlebars\\tComponents\\t#DCDCDC\\t#000000\\r\\n402\\tHL Mountain Handlebars\\t$53.4\\tNA\\tHandlebars\\tComponents\\t#DCDCDC\\t#000000\\r\\n403\\tLL Road Handlebars\\t$17.98\\tNA\\tHandlebars\\tComponents\\t#DCDCDC\\t#000000\\r\\n404\\tLL Road Handlebars\\t$19.78\\tNA\\tHandlebars\\tComponents\\t#DCDCDC\\t#000000\\r\\n405\\tML Road Handlebars\\t$24.99\\tNA\\tHandlebars\\tComponents\\t#DCDCDC\\t#000000\\r\\n406\\tML Road Handlebars\\t$27.49\\tNA\\tHandlebars\\tComponents\\t#DCDCDC\\t#000000\\r\\n407\\tHL Road Handlebars\\t$48.55\\tNA\\tHandlebars\\tComponents\\t#DCDCDC\\t#000000\\r\\n408\\tHL Road Handlebars\\t$53.4\\tNA\\tHandlebars\\tComponents\\t#DCDCDC\\t#000000\\r\\n417\\tML Road Frame-W - Yellow, 38\\t$300.12\\tYellow\\tRoad Frames\\tComponents\\t#FFFF00\\t#000000\\r\\n418\\tML Road Frame-W - Yellow, 38\\t$360.94\\tYellow\\tRoad Frames\\tComponents\\t#FFFF00\\t#000000\\r\\n429\\tML Road Frame-W - Yellow, 40\\t$300.12\\tYellow\\tRoad Frames\\tComponents\\t#FFFF00\\t#000000\\r\\n430\\tML Road Frame-W - Yellow, 40\\t$360.94\\tYellow\\tRoad Frames\\tComponents\\t#FFFF00\\t#000000\\r\\n431\\tML Road Frame-W - Yellow, 42\\t$300.12\\tYellow\\tRoad Frames\\tComponents\\t#FFFF00\\t#000000\\r\\n432\\tML Road Frame-W - Yellow, 42\\t$360.94\\tYellow\\tRoad Frames\\tComponents\\t#FFFF00\\t#000000\\r\\n433\\tML Road Frame-W - Yellow, 44\\t$300.12\\tYellow\\tRoad Frames\\tComponents\\t#FFFF00\\t#000000\\r\\n434\\tML Road Frame-W - Yellow, 44\\t$360.94\\tYellow\\tRoad Frames\\tComponents\\t#FFFF00\\t#000000\\r\\n435\\tML Road Frame-W - Yellow, 48\\t$300.12\\tYellow\\tRoad Frames\\tComponents\\t#FFFF00\\t#000000\\r\\n436\\tML Road Frame-W - Yellow, 48\\t$360.94\\tYellow\\tRoad Frames\\tComponents\\t#FFFF00\\t#000000\\r\\n446\\tTouring-Panniers, Large\\t$51.56\\tGrey\\tPanniers\\tAccessories\\t#808080\\t#FFFFFF\\r\\n447\\tCable Lock\\t$10.31\\tNA\\tLocks\\tAccessories\\t#DCDCDC\\t#000000\\r\\n448\\tMinipump\\t$8.25\\tNA\\tPumps\\tAccessories\\t#DCDCDC\\t#000000\\r\\n449\\tMountain Pump\\t$10.31\\tNA\\tPumps\\tAccessories\\t#DCDCDC\\t#000000\\r\\n450\\tTaillights - Battery-Powered\\t$5.77\\tNA\\tLights\\tAccessories\\t#DCDCDC\\t#000000\\r\\n451\\tHeadlights - Dual-Beam\\t$14.43\\tNA\\tLights\\tAccessories\\t#DCDCDC\\t#000000\\r\\n452\\tHeadlights - Weatherproof\\t$18.56\\tNA\\tLights\\tAccessories\\t#DCDCDC\\t#000000\\r\\n459\\tMen's Bib-Shorts, S\\t$37.12\\tMulti\\tBib-Shorts\\tClothing\\t#BC8F8F\\t#000000\\r\\n460\\tMen's Bib-Shorts, M\\t$37.12\\tMulti\\tBib-Shorts\\tClothing\\t#BC8F8F\\t#000000\\r\\n461\\tMen's Bib-Shorts, L\\t$37.12\\tMulti\\tBib-Shorts\\tClothing\\t#BC8F8F\\t#000000\\r\\n471\\tClassic Vest, S\\t$23.75\\tBlue\\tVests\\tClothing\\t#0000FF\\t#FFFFFF\\r\\n472\\tClassic Vest, M\\t$23.75\\tBlue\\tVests\\tClothing\\t#0000FF\\t#FFFFFF\\r\\n473\\tClassic Vest, L\\t$23.75\\tBlue\\tVests\\tClothing\\t#0000FF\\t#FFFFFF\\r\\n477\\tWater Bottle - 30 oz.\\t$1.87\\tNA\\tBottles and Cages\\tAccessories\\t#DCDCDC\\t#000000\\r\\n478\\tMountain Bottle Cage\\t$3.74\\tNA\\tBottles and Cages\\tAccessories\\t#DCDCDC\\t#000000\\r\\n479\\tRoad Bottle Cage\\t$3.36\\tNA\\tBottles and Cages\\tAccessories\\t#DCDCDC\\t#000000\\r\\n480\\tPatch Kit/8 Patches\\t$0.86\\tNA\\tTires and Tubes\\tAccessories\\t#DCDCDC\\t#000000\\r\\n481\\tRacing Socks, M\\t$3.36\\tWhite\\tSocks\\tClothing\\t#FFFFFF\\t#000000\\r\\n482\\tRacing Socks, L\\t$3.36\\tWhite\\tSocks\\tClothing\\t#FFFFFF\\t#000000\\r\\n483\\tHitch Rack - 4-Bike\\t$44.88\\tNA\\tBike Racks\\tAccessories\\t#DCDCDC\\t#000000\\r\\n484\\tBike Wash - Dissolver\\t$2.97\\tNA\\tCleaners\\tAccessories\\t#DCDCDC\\t#000000\\r\\n485\\tFender Set - Mountain\\t$8.22\\tNA\\tFenders\\tAccessories\\t#DCDCDC\\t#000000\\r\\n486\\tAll-Purpose Bike Stand\\t$59.47\\tNA\\tBike Stands\\tAccessories\\t#DCDCDC\\t#000000\\r\\n487\\tHydration Pack - 70 oz.\\t$20.57\\tSilver\\tHydration Packs\\tAccessories\\t#C0C0C0\\t#000000\\r\\n488\\tShort-Sleeve Classic Jersey, S\\t$41.57\\tYellow\\tJerseys\\tClothing\\t#FFFF00\\t#000000\\r\\n489\\tShort-Sleeve Classic Jersey, M\\t$41.57\\tYellow\\tJerseys\\tClothing\\t#FFFF00\\t#000000\\r\\n490\\tShort-Sleeve Classic Jersey, L\\t$41.57\\tYellow\\tJerseys\\tClothing\\t#FFFF00\\t#000000\\r\\n491\\tShort-Sleeve Classic Jersey, XL\\t$41.57\\tYellow\\tJerseys\\tClothing\\t#FFFF00\\t#000000\\r\\n492\\tHL Touring Frame - Yellow, 60\\t$601.74\\tYellow\\tTouring Frames\\tComponents\\t#FFFF00\\t#000000\\r\\n493\\tLL Touring Frame - Yellow, 62\\t$199.85\\tYellow\\tTouring Frames\\tComponents\\t#FFFF00\\t#000000\\r\\n494\\tHL Touring Frame - Yellow, 46\\t$601.74\\tYellow\\tTouring Frames\\tComponents\\t#FFFF00\\t#000000\\r\\n495\\tHL Touring Frame - Yellow, 50\\t$601.74\\tYellow\\tTouring Frames\\tComponents\\t#FFFF00\\t#000000\\r\\n496\\tHL Touring Frame - Yellow, 54\\t$601.74\\tYellow\\tTouring Frames\\tComponents\\t#FFFF00\\t#000000\\r\\n497\\tHL Touring Frame - Blue, 46\\t$601.74\\tBlue\\tTouring Frames\\tComponents\\t#0000FF\\t#FFFFFF\\r\\n498\\tHL Touring Frame - Blue, 50\\t$601.74\\tBlue\\tTouring Frames\\tComponents\\t#0000FF\\t#FFFFFF\\r\\n499\\tHL Touring Frame - Blue, 54\\t$601.74\\tBlue\\tTouring Frames\\tComponents\\t#0000FF\\t#FFFFFF\\r\\n500\\tHL Touring Frame - Blue, 60\\t$601.74\\tBlue\\tTouring Frames\\tComponents\\t#0000FF\\t#FFFFFF\\r\\n501\\tRear Derailleur\\t$53.93\\tSilver\\tDerailleurs\\tComponents\\t#C0C0C0\\t#000000\\r\\n502\\tLL Touring Frame - Blue, 50\\t$199.85\\tBlue\\tTouring Frames\\tComponents\\t#0000FF\\t#FFFFFF\\r\\n503\\tLL Touring Frame - Blue, 54\\t$199.85\\tBlue\\tTouring Frames\\tComponents\\t#0000FF\\t#FFFFFF\\r\\n504\\tLL Touring Frame - Blue, 58\\t$199.85\\tBlue\\tTouring Frames\\tComponents\\t#0000FF\\t#FFFFFF\\r\\n505\\tLL Touring Frame - Blue, 62\\t$199.85\\tBlue\\tTouring Frames\\tComponents\\t#0000FF\\t#FFFFFF\\r\\n506\\tLL Touring Frame - Yellow, 44\\t$199.85\\tYellow\\tTouring Frames\\tComponents\\t#FFFF00\\t#000000\\r\\n507\\tLL Touring Frame - Yellow, 50\\t$199.85\\tYellow\\tTouring Frames\\tComponents\\t#FFFF00\\t#000000\\r\\n508\\tLL Touring Frame - Yellow, 54\\t$199.85\\tYellow\\tTouring Frames\\tComponents\\t#FFFF00\\t#000000\\r\\n509\\tLL Touring Frame - Yellow, 58\\t$199.85\\tYellow\\tTouring Frames\\tComponents\\t#FFFF00\\t#000000\\r\\n510\\tLL Touring Frame - Blue, 44\\t$199.85\\tBlue\\tTouring Frames\\tComponents\\t#0000FF\\t#FFFFFF\\r\\n511\\tML Mountain Frame-W - Silver, 40\\t$199.38\\tSilver\\tMountain Frames\\tComponents\\t#C0C0C0\\t#000000\\r\\n512\\tML Mountain Frame-W - Silver, 42\\t$199.38\\tSilver\\tMountain Frames\\tComponents\\t#C0C0C0\\t#000000\\r\\n513\\tML Mountain Frame-W - Silver, 46\\t$199.38\\tSilver\\tMountain Frames\\tComponents\\t#C0C0C0\\t#000000\\r\\n514\\tRear Brakes\\t$47.29\\tSilver\\tBrakes\\tComponents\\t#C0C0C0\\t#000000\\r\\n515\\tLL Mountain Seat/Saddle\\t$12.04\\tNA\\tSaddles\\tComponents\\t#DCDCDC\\t#000000\\r\\n516\\tML Mountain Seat/Saddle\\t$17.38\\tNA\\tSaddles\\tComponents\\t#DCDCDC\\t#000000\\r\\n517\\tHL Mountain Seat/Saddle\\t$23.37\\tNA\\tSaddles\\tComponents\\t#DCDCDC\\t#000000\\r\\n518\\tLL Road Seat/Saddle\\t$12.04\\tNA\\tSaddles\\tComponents\\t#DCDCDC\\t#000000\\r\\n519\\tML Road Seat/Saddle\\t$17.38\\tNA\\tSaddles\\tComponents\\t#DCDCDC\\t#000000\\r\\n520\\tHL Road Seat/Saddle\\t$23.37\\tNA\\tSaddles\\tComponents\\t#DCDCDC\\t#000000\\r\\n521\\tLL Touring Seat/Saddle\\t$12.04\\tNA\\tSaddles\\tComponents\\t#DCDCDC\\t#000000\\r\\n522\\tML Touring Seat/Saddle\\t$17.38\\tNA\\tSaddles\\tComponents\\t#DCDCDC\\t#000000\\r\\n523\\tHL Touring Seat/Saddle\\t$23.37\\tNA\\tSaddles\\tComponents\\t#DCDCDC\\t#000000\\r\\n524\\tLL Mountain Frame - Silver, 42\\t$144.59\\tSilver\\tMountain Frames\\tComponents\\t#C0C0C0\\t#000000\\r\\n525\\tLL Mountain Frame - Silver, 44\\t$144.59\\tSilver\\tMountain Frames\\tComponents\\t#C0C0C0\\t#000000\\r\\n526\\tLL Mountain Frame - Silver, 48\\t$144.59\\tSilver\\tMountain Frames\\tComponents\\t#C0C0C0\\t#000000\\r\\n527\\tLL Mountain Frame - Silver, 52\\t$144.59\\tSilver\\tMountain Frames\\tComponents\\t#C0C0C0\\t#000000\\r\\n528\\tMountain Tire Tube\\t$1.87\\tNA\\tTires and Tubes\\tAccessories\\t#DCDCDC\\t#000000\\r\\n529\\tRoad Tire Tube\\t$1.49\\tNA\\tTires and Tubes\\tAccessories\\t#DCDCDC\\t#000000\\r\\n530\\tTouring Tire Tube\\t$1.87\\tNA\\tTires and Tubes\\tAccessories\\t#DCDCDC\\t#000000\\r\\n535\\tLL Mountain Tire\\t$9.35\\tNA\\tTires and Tubes\\tAccessories\\t#DCDCDC\\t#000000\\r\\n536\\tML Mountain Tire\\t$11.22\\tNA\\tTires and Tubes\\tAccessories\\t#DCDCDC\\t#000000\\r\\n537\\tHL Mountain Tire\\t$13.09\\tNA\\tTires and Tubes\\tAccessories\\t#DCDCDC\\t#000000\\r\\n538\\tLL Road Tire\\t$8.04\\tNA\\tTires and Tubes\\tAccessories\\t#DCDCDC\\t#000000\\r\\n539\\tML Road Tire\\t$9.35\\tNA\\tTires and Tubes\\tAccessories\\t#DCDCDC\\t#000000\\r\\n540\\tHL Road Tire\\t$12.19\\tNA\\tTires and Tubes\\tAccessories\\t#DCDCDC\\t#000000\\r\\n541\\tTouring Tire\\t$10.84\\tNA\\tTires and Tubes\\tAccessories\\t#DCDCDC\\t#000000\\r\\n542\\tLL Mountain Pedal\\t$17.98\\tSilver/Black\\tPedals\\tComponents\\t#696969\\t#FFFFFF\\r\\n543\\tML Mountain Pedal\\t$27.57\\tSilver/Black\\tPedals\\tComponents\\t#696969\\t#FFFFFF\\r\\n544\\tHL Mountain Pedal\\t$35.96\\tSilver/Black\\tPedals\\tComponents\\t#696969\\t#FFFFFF\\r\\n545\\tLL Road Pedal\\t$17.98\\tSilver/Black\\tPedals\\tComponents\\t#696969\\t#FFFFFF\\r\\n546\\tML Road Pedal\\t$27.57\\tSilver/Black\\tPedals\\tComponents\\t#696969\\t#FFFFFF\\r\\n547\\tHL Road Pedal\\t$35.96\\tSilver/Black\\tPedals\\tComponents\\t#696969\\t#FFFFFF\\r\\n548\\tTouring Pedal\\t$35.96\\tSilver/Black\\tPedals\\tComponents\\t#696969\\t#FFFFFF\\r\\n549\\tML Mountain Frame-W - Silver, 38\\t$199.38\\tSilver\\tMountain Frames\\tComponents\\t#C0C0C0\\t#000000\\r\\n551\\tLL Mountain Frame - Silver, 40\\t$144.59\\tSilver\\tMountain Frames\\tComponents\\t#C0C0C0\\t#000000\\r\\n552\\tFront Derailleur\\t$40.62\\tSilver\\tDerailleurs\\tComponents\\t#C0C0C0\\t#000000\\r\\n553\\tLL Touring Handlebars\\t$20.46\\tNA\\tHandlebars\\tComponents\\t#DCDCDC\\t#000000\\r\\n554\\tHL Touring Handlebars\\t$40.66\\tNA\\tHandlebars\\tComponents\\t#DCDCDC\\t#000000\\r\\n555\\tFront Brakes\\t$47.29\\tSilver\\tBrakes\\tComponents\\t#C0C0C0\\t#000000\\r\\n559\\tChain\\t$8.99\\tSilver\\tChains\\tComponents\\t#C0C0C0\\t#000000\\r\\n560\\tTouring-2000 Blue, 60\\t$755.15\\tBlue\\tTouring Bikes\\tBikes\\t#0000FF\\t#FFFFFF\\r\\n561\\tTouring-1000 Yellow, 46\\t$1,481.94\\tYellow\\tTouring Bikes\\tBikes\\t#FFFF00\\t#000000\\r\\n562\\tTouring-1000 Yellow, 50\\t$1,481.94\\tYellow\\tTouring Bikes\\tBikes\\t#FFFF00\\t#000000\\r\\n563\\tTouring-1000 Yellow, 54\\t$1,481.94\\tYellow\\tTouring Bikes\\tBikes\\t#FFFF00\\t#000000\\r\\n564\\tTouring-1000 Yellow, 60\\t$1,481.94\\tYellow\\tTouring Bikes\\tBikes\\t#FFFF00\\t#000000\\r\\n565\\tTouring-3000 Blue, 54\\t$461.44\\tBlue\\tTouring Bikes\\tBikes\\t#0000FF\\t#FFFFFF\\r\\n566\\tTouring-3000 Blue, 58\\t$461.44\\tBlue\\tTouring Bikes\\tBikes\\t#0000FF\\t#FFFFFF\\r\\n567\\tTouring-3000 Blue, 62\\t$461.44\\tBlue\\tTouring Bikes\\tBikes\\t#0000FF\\t#FFFFFF\\r\\n568\\tTouring-3000 Yellow, 44\\t$461.44\\tYellow\\tTouring Bikes\\tBikes\\t#FFFF00\\t#000000\\r\\n569\\tTouring-3000 Yellow, 50\\t$461.44\\tYellow\\tTouring Bikes\\tBikes\\t#FFFF00\\t#000000\\r\\n570\\tTouring-3000 Yellow, 54\\t$461.44\\tYellow\\tTouring Bikes\\tBikes\\t#FFFF00\\t#000000\\r\\n571\\tTouring-3000 Yellow, 58\\t$461.44\\tYellow\\tTouring Bikes\\tBikes\\t#FFFF00\\t#000000\\r\\n572\\tTouring-3000 Yellow, 62\\t$461.44\\tYellow\\tTouring Bikes\\tBikes\\t#FFFF00\\t#000000\\r\\n573\\tTouring-1000 Blue, 46\\t$1,481.94\\tBlue\\tTouring Bikes\\tBikes\\t#0000FF\\t#FFFFFF\\r\\n574\\tTouring-1000 Blue, 50\\t$1,481.94\\tBlue\\tTouring Bikes\\tBikes\\t#0000FF\\t#FFFFFF\\r\\n575\\tTouring-1000 Blue, 54\\t$1,481.94\\tBlue\\tTouring Bikes\\tBikes\\t#0000FF\\t#FFFFFF\\r\\n576\\tTouring-1000 Blue, 60\\t$1,481.94\\tBlue\\tTouring Bikes\\tBikes\\t#0000FF\\t#FFFFFF\\r\\n577\\tTouring-2000 Blue, 46\\t$755.15\\tBlue\\tTouring Bikes\\tBikes\\t#0000FF\\t#FFFFFF\\r\\n578\\tTouring-2000 Blue, 50\\t$755.15\\tBlue\\tTouring Bikes\\tBikes\\t#0000FF\\t#FFFFFF\\r\\n579\\tTouring-2000 Blue, 54\\t$755.15\\tBlue\\tTouring Bikes\\tBikes\\t#0000FF\\t#FFFFFF\\r\\n580\\tRoad-350-W Yellow, 40\\t$1,082.51\\tYellow\\tRoad Bikes\\tBikes\\t#FFFF00\\t#000000\\r\\n581\\tRoad-350-W Yellow, 42\\t$1,082.51\\tYellow\\tRoad Bikes\\tBikes\\t#FFFF00\\t#000000\\r\\n582\\tRoad-350-W Yellow, 44\\t$1,082.51\\tYellow\\tRoad Bikes\\tBikes\\t#FFFF00\\t#000000\\r\\n583\\tRoad-350-W Yellow, 48\\t$1,082.51\\tYellow\\tRoad Bikes\\tBikes\\t#FFFF00\\t#000000\\r\\n585\\tTouring-3000 Blue, 44\\t$461.44\\tBlue\\tTouring Bikes\\tBikes\\t#0000FF\\t#FFFFFF\\r\\n586\\tTouring-3000 Blue, 50\\t$461.44\\tBlue\\tTouring Bikes\\tBikes\\t#0000FF\\t#FFFFFF\\r\\n587\\tMountain-400-W Silver, 38\\t$419.78\\tSilver\\tMountain Bikes\\tBikes\\t#C0C0C0\\t#000000\\r\\n588\\tMountain-400-W Silver, 40\\t$419.78\\tSilver\\tMountain Bikes\\tBikes\\t#C0C0C0\\t#000000\\r\\n589\\tMountain-400-W Silver, 42\\t$419.78\\tSilver\\tMountain Bikes\\tBikes\\t#C0C0C0\\t#000000\\r\\n590\\tMountain-400-W Silver, 46\\t$419.78\\tSilver\\tMountain Bikes\\tBikes\\t#C0C0C0\\t#000000\\r\\n591\\tMountain-500 Silver, 40\\t$308.22\\tSilver\\tMountain Bikes\\tBikes\\t#C0C0C0\\t#000000\\r\\n592\\tMountain-500 Silver, 42\\t$308.22\\tSilver\\tMountain Bikes\\tBikes\\t#C0C0C0\\t#000000\\r\\n593\\tMountain-500 Silver, 44\\t$308.22\\tSilver\\tMountain Bikes\\tBikes\\t#C0C0C0\\t#000000\\r\\n594\\tMountain-500 Silver, 48\\t$308.22\\tSilver\\tMountain Bikes\\tBikes\\t#C0C0C0\\t#000000\\r\\n595\\tMountain-500 Silver, 52\\t$308.22\\tSilver\\tMountain Bikes\\tBikes\\t#C0C0C0\\t#000000\\r\\n601\\tLL Bottom Bracket\\t$23.97\\tNA\\tBottom Brackets\\tComponents\\t#DCDCDC\\t#000000\\r\\n602\\tML Bottom Bracket\\t$44.95\\tNA\\tBottom Brackets\\tComponents\\t#DCDCDC\\t#000000\\r\\n603\\tHL Bottom Bracket\\t$53.94\\tNA\\tBottom Brackets\\tComponents\\t#DCDCDC\\t#000000\")]\n"
     ]
    }
   ],
   "source": [
    "# Create an RDD by reading whole text files\n",
    "rdd = sc.wholeTextFiles(\"dbfs:/FileStore/*\")\n",
    "\n",
    "# Perform an action to collect the results\n",
    "print(rdd.collect())"
   ]
  },
  {
   "cell_type": "markdown",
   "metadata": {
    "application/vnd.databricks.v1+cell": {
     "cellMetadata": {},
     "inputWidgets": {},
     "nuid": "7a72a113-a086-4434-b266-328c500a60ac",
     "showTitle": false,
     "title": ""
    }
   },
   "source": [
    "### 3.5 Reading from HDFS\n",
    "If your data is stored in HDFS, you can read it directly into an RDD."
   ]
  },
  {
   "cell_type": "code",
   "execution_count": 0,
   "metadata": {
    "application/vnd.databricks.v1+cell": {
     "cellMetadata": {},
     "inputWidgets": {},
     "nuid": "a2088aa7-6443-4cbf-9fac-fa0e7e19c352",
     "showTitle": false,
     "title": ""
    }
   },
   "outputs": [],
   "source": [
    "# # Create an RDD by reading from HDFS\n",
    "# rdd = sc.textFile(\"hdfs:///path/to/file.txt\")\n",
    "\n",
    "# # Perform an action to collect the results\n",
    "# print(rdd.collect())"
   ]
  },
  {
   "cell_type": "markdown",
   "metadata": {
    "application/vnd.databricks.v1+cell": {
     "cellMetadata": {},
     "inputWidgets": {},
     "nuid": "7e3e859b-4d33-446f-ba85-24acd33f8d30",
     "showTitle": false,
     "title": ""
    }
   },
   "source": [
    "## 4. Reading Data into DataFrames\n",
    "DataFrames are a distributed collection of data organized into named columns, conceptually equivalent to a table in a relational database or a data frame in R/Python. They provide a higher-level abstraction than RDDs and support more operations."
   ]
  },
  {
   "cell_type": "markdown",
   "metadata": {
    "application/vnd.databricks.v1+cell": {
     "cellMetadata": {},
     "inputWidgets": {},
     "nuid": "34ac3883-3cb4-43b4-8594-c67d043afcf0",
     "showTitle": false,
     "title": ""
    }
   },
   "source": [
    "####Reading CSV Files into DF"
   ]
  },
  {
   "cell_type": "code",
   "execution_count": 0,
   "metadata": {
    "application/vnd.databricks.v1+cell": {
     "cellMetadata": {
      "byteLimit": 2048000,
      "rowLimit": 10000
     },
     "inputWidgets": {},
     "nuid": "5b8e55ec-6864-4228-8400-e3405eb53ff4",
     "showTitle": false,
     "title": ""
    }
   },
   "outputs": [
    {
     "output_type": "stream",
     "name": "stdout",
     "output_type": "stream",
     "text": [
      "+----------+--------------------+-------------+-----+-----------+-----------+-----------------------+-----------------+\n|ProductKey|             Product|Standard Cost|Color|Subcategory|   Category|Background Color Format|Font Color Format|\n+----------+--------------------+-------------+-----+-----------+-----------+-----------------------+-----------------+\n|       210|HL Road Frame - B...|      $868.63|Black|Road Frames| Components|                #000000|          #FFFFFF|\n|       215|Sport-100 Helmet,...|       $12.03|Black|    Helmets|Accessories|                #000000|          #FFFFFF|\n|       216|Sport-100 Helmet,...|       $13.88|Black|    Helmets|Accessories|                #000000|          #FFFFFF|\n|       217|Sport-100 Helmet,...|       $13.09|Black|    Helmets|Accessories|                #000000|          #FFFFFF|\n|       253|LL Road Frame - B...|       $176.2|Black|Road Frames| Components|                #000000|          #FFFFFF|\n|       254|LL Road Frame - B...|      $170.14|Black|Road Frames| Components|                #000000|          #FFFFFF|\n|       255|LL Road Frame - B...|      $204.63|Black|Road Frames| Components|                #000000|          #FFFFFF|\n|       256|LL Road Frame - B...|       $176.2|Black|Road Frames| Components|                #000000|          #FFFFFF|\n|       257|LL Road Frame - B...|      $170.14|Black|Road Frames| Components|                #000000|          #FFFFFF|\n|       258|LL Road Frame - B...|      $204.63|Black|Road Frames| Components|                #000000|          #FFFFFF|\n|       259|LL Road Frame - B...|       $176.2|Black|Road Frames| Components|                #000000|          #FFFFFF|\n|       260|LL Road Frame - B...|      $170.14|Black|Road Frames| Components|                #000000|          #FFFFFF|\n|       261|LL Road Frame - B...|      $204.63|Black|Road Frames| Components|                #000000|          #FFFFFF|\n|       279|LL Road Frame - B...|       $176.2|Black|Road Frames| Components|                #000000|          #FFFFFF|\n|       280|LL Road Frame - B...|      $170.14|Black|Road Frames| Components|                #000000|          #FFFFFF|\n|       281|LL Road Frame - B...|      $204.63|Black|Road Frames| Components|                #000000|          #FFFFFF|\n|       282|LL Road Frame - B...|       $176.2|Black|Road Frames| Components|                #000000|          #FFFFFF|\n|       283|LL Road Frame - B...|      $170.14|Black|Road Frames| Components|                #000000|          #FFFFFF|\n|       284|LL Road Frame - B...|      $204.63|Black|Road Frames| Components|                #000000|          #FFFFFF|\n|       285|LL Road Frame - B...|       $176.2|Black|Road Frames| Components|                #000000|          #FFFFFF|\n+----------+--------------------+-------------+-----+-----------+-----------+-----------------------+-----------------+\nonly showing top 20 rows\n\n"
     ]
    }
   ],
   "source": [
    "# Initialize SparkSession\n",
    "# spark = SparkSession.builder.appName(\"ReadDataFrame\").getOrCreate()\n",
    "\n",
    "# Read data from a CSV file into a DataFrame\n",
    "df = spark.read.csv(\"dbfs:/FileStore/Product.csv\", header=True, inferSchema=True,sep='\\t')\n",
    "\n",
    "# Show the first few rows of the DataFrame\n",
    "df.show()"
   ]
  },
  {
   "cell_type": "markdown",
   "metadata": {
    "application/vnd.databricks.v1+cell": {
     "cellMetadata": {},
     "inputWidgets": {},
     "nuid": "a23693aa-73b8-4623-bbd3-2e0f4206f633",
     "showTitle": false,
     "title": ""
    }
   },
   "source": [
    "####Reading Parquet Files into DF"
   ]
  },
  {
   "cell_type": "code",
   "execution_count": 0,
   "metadata": {
    "application/vnd.databricks.v1+cell": {
     "cellMetadata": {
      "byteLimit": 2048000,
      "rowLimit": 10000
     },
     "inputWidgets": {},
     "nuid": "fe121b92-1f00-4509-863e-e23b2f23fd66",
     "showTitle": false,
     "title": ""
    }
   },
   "outputs": [
    {
     "output_type": "stream",
     "name": "stdout",
     "output_type": "stream",
     "text": [
      "+-------------------+----+---+-----+---+----+-----+-----+---+---+----+----+\n|              model| mpg|cyl| disp| hp|drat|   wt| qsec| vs| am|gear|carb|\n+-------------------+----+---+-----+---+----+-----+-----+---+---+----+----+\n|          Mazda RX4|21.0|  6|160.0|110| 3.9| 2.62|16.46|  0|  1|   4|   4|\n|      Mazda RX4 Wag|21.0|  6|160.0|110| 3.9|2.875|17.02|  0|  1|   4|   4|\n|         Datsun 710|22.8|  4|108.0| 93|3.85| 2.32|18.61|  1|  1|   4|   1|\n|     Hornet 4 Drive|21.4|  6|258.0|110|3.08|3.215|19.44|  1|  0|   3|   1|\n|  Hornet Sportabout|18.7|  8|360.0|175|3.15| 3.44|17.02|  0|  0|   3|   2|\n|            Valiant|18.1|  6|225.0|105|2.76| 3.46|20.22|  1|  0|   3|   1|\n|         Duster 360|14.3|  8|360.0|245|3.21| 3.57|15.84|  0|  0|   3|   4|\n|          Merc 240D|24.4|  4|146.7| 62|3.69| 3.19| 20.0|  1|  0|   4|   2|\n|           Merc 230|22.8|  4|140.8| 95|3.92| 3.15| 22.9|  1|  0|   4|   2|\n|           Merc 280|19.2|  6|167.6|123|3.92| 3.44| 18.3|  1|  0|   4|   4|\n|          Merc 280C|17.8|  6|167.6|123|3.92| 3.44| 18.9|  1|  0|   4|   4|\n|         Merc 450SE|16.4|  8|275.8|180|3.07| 4.07| 17.4|  0|  0|   3|   3|\n|         Merc 450SL|17.3|  8|275.8|180|3.07| 3.73| 17.6|  0|  0|   3|   3|\n|        Merc 450SLC|15.2|  8|275.8|180|3.07| 3.78| 18.0|  0|  0|   3|   3|\n| Cadillac Fleetwood|10.4|  8|472.0|205|2.93| 5.25|17.98|  0|  0|   3|   4|\n|Lincoln Continental|10.4|  8|460.0|215| 3.0|5.424|17.82|  0|  0|   3|   4|\n|  Chrysler Imperial|14.7|  8|440.0|230|3.23|5.345|17.42|  0|  0|   3|   4|\n|           Fiat 128|32.4|  4| 78.7| 66|4.08|  2.2|19.47|  1|  1|   4|   1|\n|        Honda Civic|30.4|  4| 75.7| 52|4.93|1.615|18.52|  1|  1|   4|   2|\n|     Toyota Corolla|33.9|  4| 71.1| 65|4.22|1.835| 19.9|  1|  1|   4|   1|\n+-------------------+----+---+-----+---+----+-----+-----+---+---+----+----+\nonly showing top 20 rows\n\n"
     ]
    },
    {
     "output_type": "stream",
     "name": "stderr",
     "output_type": "stream",
     "text": [
      "Custom TB Handler failed, unregistering\n"
     ]
    },
    {
     "output_type": "display_data",
     "data": {
      "text/html": [
       "<style scoped>\n",
       "  .ansiout {\n",
       "    display: block;\n",
       "    unicode-bidi: embed;\n",
       "    white-space: pre-wrap;\n",
       "    word-wrap: break-word;\n",
       "    word-break: break-all;\n",
       "    font-family: \"Menlo\", \"Monaco\", \"Consolas\", \"Ubuntu Mono\", \"Source Code Pro\", monospace;\n",
       "    font-size: 13px;\n",
       "    color: #555;\n",
       "    margin-left: 4px;\n",
       "    line-height: 19px;\n",
       "  }\n",
       "</style>\n",
       "java.lang.Exception: Could not stop computations\n",
       "\tat com.databricks.backend.daemon.driver.DriverClient.$anonfun$poll$4(DriverClient.scala:708)\n",
       "\tat scala.concurrent.Future.$anonfun$flatMap$1(Future.scala:307)\n",
       "\tat scala.concurrent.impl.Promise.$anonfun$transformWith$1(Promise.scala:54)\n",
       "\tat scala.concurrent.impl.CallbackRunnable.run(Promise.scala:77)\n",
       "\tat com.databricks.threading.ContextBoundRunnable.$anonfun$run$2(ContextBoundRunnable.scala:15)\n",
       "\tat scala.runtime.java8.JFunction0$mcV$sp.apply(JFunction0$mcV$sp.java:23)\n",
       "\tat com.databricks.logging.AttributionContextTracing.$anonfun$withAttributionContext$1(AttributionContextTracing.scala:48)\n",
       "\tat com.databricks.logging.AttributionContext$.$anonfun$withValue$1(AttributionContext.scala:275)\n",
       "\tat scala.util.DynamicVariable.withValue(DynamicVariable.scala:62)\n",
       "\tat com.databricks.logging.AttributionContext$.withValue(AttributionContext.scala:271)\n",
       "\tat com.databricks.logging.AttributionContextTracing.withAttributionContext(AttributionContextTracing.scala:46)\n",
       "\tat com.databricks.logging.AttributionContextTracing.withAttributionContext$(AttributionContextTracing.scala:43)\n",
       "\tat com.databricks.threading.ContextBoundRunnable.withAttributionContext(ContextBoundRunnable.scala:6)\n",
       "\tat com.databricks.threading.ContextBoundRunnable.$anonfun$run$1(ContextBoundRunnable.scala:15)\n",
       "\tat scala.runtime.java8.JFunction0$mcV$sp.apply(JFunction0$mcV$sp.java:23)\n",
       "\tat com.databricks.context.integrity.IntegrityCheckContext$ThreadLocalStorage$.withValue(IntegrityCheckContext.scala:73)\n",
       "\tat com.databricks.threading.ContextBoundRunnable.run(ContextBoundRunnable.scala:14)\n",
       "\tat com.databricks.threading.DatabricksExecutionContext$InstrumentedRunnable.run(DatabricksExecutionContext.scala:36)\n",
       "\tat com.databricks.threading.NamedExecutor$$anon$2.run(NamedExecutor.scala:457)\n",
       "\tat java.base/java.util.concurrent.ThreadPoolExecutor.runWorker(ThreadPoolExecutor.java:1128)\n",
       "\tat java.base/java.util.concurrent.ThreadPoolExecutor$Worker.run(ThreadPoolExecutor.java:628)\n",
       "\tat java.base/java.lang.Thread.run(Thread.java:829)"
      ]
     },
     "metadata": {
      "application/vnd.databricks.v1+output": {
       "arguments": {},
       "data": "java.lang.Exception: Could not stop computations\n\tat com.databricks.backend.daemon.driver.DriverClient.$anonfun$poll$4(DriverClient.scala:708)\n\tat scala.concurrent.Future.$anonfun$flatMap$1(Future.scala:307)\n\tat scala.concurrent.impl.Promise.$anonfun$transformWith$1(Promise.scala:54)\n\tat scala.concurrent.impl.CallbackRunnable.run(Promise.scala:77)\n\tat com.databricks.threading.ContextBoundRunnable.$anonfun$run$2(ContextBoundRunnable.scala:15)\n\tat scala.runtime.java8.JFunction0$mcV$sp.apply(JFunction0$mcV$sp.java:23)\n\tat com.databricks.logging.AttributionContextTracing.$anonfun$withAttributionContext$1(AttributionContextTracing.scala:48)\n\tat com.databricks.logging.AttributionContext$.$anonfun$withValue$1(AttributionContext.scala:275)\n\tat scala.util.DynamicVariable.withValue(DynamicVariable.scala:62)\n\tat com.databricks.logging.AttributionContext$.withValue(AttributionContext.scala:271)\n\tat com.databricks.logging.AttributionContextTracing.withAttributionContext(AttributionContextTracing.scala:46)\n\tat com.databricks.logging.AttributionContextTracing.withAttributionContext$(AttributionContextTracing.scala:43)\n\tat com.databricks.threading.ContextBoundRunnable.withAttributionContext(ContextBoundRunnable.scala:6)\n\tat com.databricks.threading.ContextBoundRunnable.$anonfun$run$1(ContextBoundRunnable.scala:15)\n\tat scala.runtime.java8.JFunction0$mcV$sp.apply(JFunction0$mcV$sp.java:23)\n\tat com.databricks.context.integrity.IntegrityCheckContext$ThreadLocalStorage$.withValue(IntegrityCheckContext.scala:73)\n\tat com.databricks.threading.ContextBoundRunnable.run(ContextBoundRunnable.scala:14)\n\tat com.databricks.threading.DatabricksExecutionContext$InstrumentedRunnable.run(DatabricksExecutionContext.scala:36)\n\tat com.databricks.threading.NamedExecutor$$anon$2.run(NamedExecutor.scala:457)\n\tat java.base/java.util.concurrent.ThreadPoolExecutor.runWorker(ThreadPoolExecutor.java:1128)\n\tat java.base/java.util.concurrent.ThreadPoolExecutor$Worker.run(ThreadPoolExecutor.java:628)\n\tat java.base/java.lang.Thread.run(Thread.java:829)\n",
       "errorSummary": "Internal error. Attach your notebook to a different compute or restart the current compute.",
       "errorTraceType": null,
       "metadata": {},
       "type": "ipynbError"
      }
     },
     "output_type": "display_data"
    }
   ],
   "source": [
    "\n",
    "# Read a Parquet file into a DataFrame\n",
    "df = spark.read.parquet(\"dbfs:/FileStore/tables/MT_cars.parquet\")\n",
    "\n",
    "# Show the DataFrame\n",
    "df.show()\n",
    "\n",
    "# Stop the SparkSession\n",
    "spark.stop()\n"
   ]
  },
  {
   "cell_type": "markdown",
   "metadata": {
    "application/vnd.databricks.v1+cell": {
     "cellMetadata": {},
     "inputWidgets": {},
     "nuid": "96a34ac9-7c9f-4855-8fd8-53001e402041",
     "showTitle": false,
     "title": ""
    }
   },
   "source": [
    "## 5. Spark APIs\n",
    "Spark provides various APIs for different types of processing. Some of the most commonly used ones are:\n",
    "\n",
    "### 5.1 Spark SQL\n",
    "Spark SQL is used for structured data processing. You can use SQL queries to interact with DataFrames and Datasets."
   ]
  },
  {
   "cell_type": "code",
   "execution_count": 0,
   "metadata": {
    "application/vnd.databricks.v1+cell": {
     "cellMetadata": {
      "byteLimit": 2048000,
      "rowLimit": 10000
     },
     "inputWidgets": {},
     "nuid": "e1d910bf-2d97-48fa-99f9-0e2d2e9ddf03",
     "showTitle": false,
     "title": ""
    }
   },
   "outputs": [
    {
     "output_type": "stream",
     "name": "stdout",
     "output_type": "stream",
     "text": [
      "-------------------------------------------\nTime: 2024-07-13 10:55:43\n-------------------------------------------\n\n-------------------------------------------\nTime: 2024-07-13 10:55:44\n-------------------------------------------\n\n"
     ]
    }
   ],
   "source": [
    "# Import necessary libraries\n",
    "from pyspark import SparkConf, SparkContext\n",
    "from pyspark.sql import SparkSession\n",
    "\n",
    "# # Initialize SparkContext\n",
    "\n",
    "spark = SparkSession.builder \\\n",
    "    .appName(\"MyApp1\") \\\n",
    "    .getOrCreate()\n",
    "\n",
    "df = spark.read.csv(\"dbfs:/FileStore/Product.csv\", header=True, inferSchema=True,sep='\\t')\n"
   ]
  },
  {
   "cell_type": "code",
   "execution_count": 0,
   "metadata": {
    "application/vnd.databricks.v1+cell": {
     "cellMetadata": {
      "byteLimit": 2048000,
      "rowLimit": 10000
     },
     "inputWidgets": {},
     "nuid": "c7bbbcf7-700c-441c-ba9f-2630909e8dce",
     "showTitle": false,
     "title": ""
    }
   },
   "outputs": [
    {
     "output_type": "stream",
     "name": "stdout",
     "output_type": "stream",
     "text": [
      "-------------------------------------------\nTime: 2024-07-13 10:55:52\n-------------------------------------------\n\n-------------------------------------------\nTime: 2024-07-13 10:55:53\n-------------------------------------------\n\n+----------+--------------------+-------------+-----+-----------+-----------+-----------------------+-----------------+\n|ProductKey|             Product|Standard Cost|Color|Subcategory|   Category|Background Color Format|Font Color Format|\n+----------+--------------------+-------------+-----+-----------+-----------+-----------------------+-----------------+\n|       210|HL Road Frame - B...|      $868.63|Black|Road Frames| Components|                #000000|          #FFFFFF|\n|       215|Sport-100 Helmet,...|       $12.03|Black|    Helmets|Accessories|                #000000|          #FFFFFF|\n|       216|Sport-100 Helmet,...|       $13.88|Black|    Helmets|Accessories|                #000000|          #FFFFFF|\n|       217|Sport-100 Helmet,...|       $13.09|Black|    Helmets|Accessories|                #000000|          #FFFFFF|\n|       253|LL Road Frame - B...|       $176.2|Black|Road Frames| Components|                #000000|          #FFFFFF|\n|       254|LL Road Frame - B...|      $170.14|Black|Road Frames| Components|                #000000|          #FFFFFF|\n|       255|LL Road Frame - B...|      $204.63|Black|Road Frames| Components|                #000000|          #FFFFFF|\n|       256|LL Road Frame - B...|       $176.2|Black|Road Frames| Components|                #000000|          #FFFFFF|\n|       257|LL Road Frame - B...|      $170.14|Black|Road Frames| Components|                #000000|          #FFFFFF|\n|       258|LL Road Frame - B...|      $204.63|Black|Road Frames| Components|                #000000|          #FFFFFF|\n|       259|LL Road Frame - B...|       $176.2|Black|Road Frames| Components|                #000000|          #FFFFFF|\n|       260|LL Road Frame - B...|      $170.14|Black|Road Frames| Components|                #000000|          #FFFFFF|\n|       261|LL Road Frame - B...|      $204.63|Black|Road Frames| Components|                #000000|          #FFFFFF|\n|       279|LL Road Frame - B...|       $176.2|Black|Road Frames| Components|                #000000|          #FFFFFF|\n|       280|LL Road Frame - B...|      $170.14|Black|Road Frames| Components|                #000000|          #FFFFFF|\n|       281|LL Road Frame - B...|      $204.63|Black|Road Frames| Components|                #000000|          #FFFFFF|\n|       282|LL Road Frame - B...|       $176.2|Black|Road Frames| Components|                #000000|          #FFFFFF|\n|       283|LL Road Frame - B...|      $170.14|Black|Road Frames| Components|                #000000|          #FFFFFF|\n|       284|LL Road Frame - B...|      $204.63|Black|Road Frames| Components|                #000000|          #FFFFFF|\n|       285|LL Road Frame - B...|       $176.2|Black|Road Frames| Components|                #000000|          #FFFFFF|\n+----------+--------------------+-------------+-----+-----------+-----------+-----------------------+-----------------+\nonly showing top 20 rows\n\n"
     ]
    }
   ],
   "source": [
    "# Register the DataFrame as a SQL temporary view\n",
    "\n",
    "df.createOrReplaceTempView(\"table\")\n",
    "\n",
    "# Run an SQL query\n",
    "result = spark.sql(\"SELECT * FROM table\")\n",
    "result.show()"
   ]
  },
  {
   "cell_type": "markdown",
   "metadata": {
    "application/vnd.databricks.v1+cell": {
     "cellMetadata": {},
     "inputWidgets": {},
     "nuid": "4733eab7-18f8-48f7-84dc-941a1fc5f983",
     "showTitle": false,
     "title": ""
    }
   },
   "source": [
    "### 5.2 Spark Pandas\n",
    "Pandas API on Spark provides the pandas-like API which operates on Spark dataframes."
   ]
  },
  {
   "cell_type": "code",
   "execution_count": 0,
   "metadata": {
    "application/vnd.databricks.v1+cell": {
     "cellMetadata": {
      "byteLimit": 2048000,
      "rowLimit": 10000
     },
     "inputWidgets": {},
     "nuid": "e4120620-5030-4b55-a3d6-085d774ebff6",
     "showTitle": false,
     "title": ""
    }
   },
   "outputs": [],
   "source": [
    "# Import necessary libraries\n",
    "from pyspark import SparkConf, SparkContext\n",
    "from pyspark.sql import SparkSession\n",
    "\n",
    "# # Initialize SparkContext\n",
    "\n",
    "spark = SparkSession.builder \\\n",
    "    .appName(\"MyApp1\") \\\n",
    "    .getOrCreate()\n",
    "\n",
    "df = spark.read.csv(\"dbfs:/FileStore/Product.csv\", header=True, inferSchema=True,sep='\\t')\n"
   ]
  },
  {
   "cell_type": "code",
   "execution_count": 0,
   "metadata": {
    "application/vnd.databricks.v1+cell": {
     "cellMetadata": {
      "byteLimit": 2048000,
      "rowLimit": 10000
     },
     "inputWidgets": {},
     "nuid": "fdbb3bea-5a5f-4488-ad98-9d59aa2ee2bb",
     "showTitle": false,
     "title": ""
    }
   },
   "outputs": [
    {
     "output_type": "display_data",
     "data": {
      "text/html": [
       "<div>\n",
       "<style scoped>\n",
       "    .dataframe tbody tr th:only-of-type {\n",
       "        vertical-align: middle;\n",
       "    }\n",
       "\n",
       "    .dataframe tbody tr th {\n",
       "        vertical-align: top;\n",
       "    }\n",
       "\n",
       "    .dataframe thead th {\n",
       "        text-align: right;\n",
       "    }\n",
       "</style>\n",
       "<table border=\"1\" class=\"dataframe\">\n",
       "  <thead>\n",
       "    <tr style=\"text-align: right;\">\n",
       "      <th></th>\n",
       "      <th>ProductKey</th>\n",
       "      <th>Product</th>\n",
       "      <th>Standard Cost</th>\n",
       "      <th>Color</th>\n",
       "      <th>Subcategory</th>\n",
       "      <th>Category</th>\n",
       "      <th>Background Color Format</th>\n",
       "      <th>Font Color Format</th>\n",
       "    </tr>\n",
       "  </thead>\n",
       "  <tbody>\n",
       "    <tr>\n",
       "      <th>0</th>\n",
       "      <td>210</td>\n",
       "      <td>HL Road Frame - Black, 58</td>\n",
       "      <td>$868.63</td>\n",
       "      <td>Black</td>\n",
       "      <td>Road Frames</td>\n",
       "      <td>Components</td>\n",
       "      <td>#000000</td>\n",
       "      <td>#FFFFFF</td>\n",
       "    </tr>\n",
       "    <tr>\n",
       "      <th>1</th>\n",
       "      <td>215</td>\n",
       "      <td>Sport-100 Helmet, Black</td>\n",
       "      <td>$12.03</td>\n",
       "      <td>Black</td>\n",
       "      <td>Helmets</td>\n",
       "      <td>Accessories</td>\n",
       "      <td>#000000</td>\n",
       "      <td>#FFFFFF</td>\n",
       "    </tr>\n",
       "    <tr>\n",
       "      <th>2</th>\n",
       "      <td>216</td>\n",
       "      <td>Sport-100 Helmet, Black</td>\n",
       "      <td>$13.88</td>\n",
       "      <td>Black</td>\n",
       "      <td>Helmets</td>\n",
       "      <td>Accessories</td>\n",
       "      <td>#000000</td>\n",
       "      <td>#FFFFFF</td>\n",
       "    </tr>\n",
       "    <tr>\n",
       "      <th>3</th>\n",
       "      <td>217</td>\n",
       "      <td>Sport-100 Helmet, Black</td>\n",
       "      <td>$13.09</td>\n",
       "      <td>Black</td>\n",
       "      <td>Helmets</td>\n",
       "      <td>Accessories</td>\n",
       "      <td>#000000</td>\n",
       "      <td>#FFFFFF</td>\n",
       "    </tr>\n",
       "    <tr>\n",
       "      <th>4</th>\n",
       "      <td>253</td>\n",
       "      <td>LL Road Frame - Black, 58</td>\n",
       "      <td>$176.2</td>\n",
       "      <td>Black</td>\n",
       "      <td>Road Frames</td>\n",
       "      <td>Components</td>\n",
       "      <td>#000000</td>\n",
       "      <td>#FFFFFF</td>\n",
       "    </tr>\n",
       "  </tbody>\n",
       "</table>\n",
       "</div>"
      ]
     },
     "metadata": {
      "application/vnd.databricks.v1+output": {
       "addedWidgets": {},
       "arguments": {},
       "data": "<div>\n<style scoped>\n    .dataframe tbody tr th:only-of-type {\n        vertical-align: middle;\n    }\n\n    .dataframe tbody tr th {\n        vertical-align: top;\n    }\n\n    .dataframe thead th {\n        text-align: right;\n    }\n</style>\n<table border=\"1\" class=\"dataframe\">\n  <thead>\n    <tr style=\"text-align: right;\">\n      <th></th>\n      <th>ProductKey</th>\n      <th>Product</th>\n      <th>Standard Cost</th>\n      <th>Color</th>\n      <th>Subcategory</th>\n      <th>Category</th>\n      <th>Background Color Format</th>\n      <th>Font Color Format</th>\n    </tr>\n  </thead>\n  <tbody>\n    <tr>\n      <th>0</th>\n      <td>210</td>\n      <td>HL Road Frame - Black, 58</td>\n      <td>$868.63</td>\n      <td>Black</td>\n      <td>Road Frames</td>\n      <td>Components</td>\n      <td>#000000</td>\n      <td>#FFFFFF</td>\n    </tr>\n    <tr>\n      <th>1</th>\n      <td>215</td>\n      <td>Sport-100 Helmet, Black</td>\n      <td>$12.03</td>\n      <td>Black</td>\n      <td>Helmets</td>\n      <td>Accessories</td>\n      <td>#000000</td>\n      <td>#FFFFFF</td>\n    </tr>\n    <tr>\n      <th>2</th>\n      <td>216</td>\n      <td>Sport-100 Helmet, Black</td>\n      <td>$13.88</td>\n      <td>Black</td>\n      <td>Helmets</td>\n      <td>Accessories</td>\n      <td>#000000</td>\n      <td>#FFFFFF</td>\n    </tr>\n    <tr>\n      <th>3</th>\n      <td>217</td>\n      <td>Sport-100 Helmet, Black</td>\n      <td>$13.09</td>\n      <td>Black</td>\n      <td>Helmets</td>\n      <td>Accessories</td>\n      <td>#000000</td>\n      <td>#FFFFFF</td>\n    </tr>\n    <tr>\n      <th>4</th>\n      <td>253</td>\n      <td>LL Road Frame - Black, 58</td>\n      <td>$176.2</td>\n      <td>Black</td>\n      <td>Road Frames</td>\n      <td>Components</td>\n      <td>#000000</td>\n      <td>#FFFFFF</td>\n    </tr>\n  </tbody>\n</table>\n</div>",
       "datasetInfos": [],
       "metadata": {},
       "removedWidgets": [],
       "textData": null,
       "type": "htmlSandbox"
      }
     },
     "output_type": "display_data"
    }
   ],
   "source": [
    "# Import pandas on Spark\n",
    "import pyspark.pandas as ps\n",
    "\n",
    "# Create a pandas on Spark DataFrame\n",
    "pdf = ps.DataFrame(df)\n",
    "pdf.head()"
   ]
  },
  {
   "cell_type": "markdown",
   "metadata": {
    "application/vnd.databricks.v1+cell": {
     "cellMetadata": {},
     "inputWidgets": {},
     "nuid": "85c3d8cd-e3f5-46e6-86d4-3e36a4c36e77",
     "showTitle": false,
     "title": ""
    }
   },
   "source": [
    "### 5.3 Spark Streaming\n",
    "Spark Streaming is used for processing real-time streaming data. It allows you to ingest data from various sources like Kafka, Flume, Kinesis, etc., and perform complex operations on it."
   ]
  },
  {
   "cell_type": "code",
   "execution_count": 0,
   "metadata": {
    "application/vnd.databricks.v1+cell": {
     "cellMetadata": {
      "byteLimit": 2048000,
      "rowLimit": 10000
     },
     "inputWidgets": {},
     "nuid": "13bab24a-afea-4de5-bb6b-d45b7fa144a8",
     "showTitle": false,
     "title": ""
    }
   },
   "outputs": [],
   "source": [
    "# Databricks notebook source\n",
    "\n",
    "# Import necessary libraries\n",
    "from pyspark.streaming import StreamingContext\n",
    "from pyspark.sql import SparkSession\n",
    "import os\n",
    "from datetime import datetime\n",
    "\n",
    "# Use the existing Spark session\n",
    "spark = SparkSession.builder.appName(\"StreamingWordCount\").getOrCreate()\n",
    "sc = spark.sparkContext\n",
    "ssc = StreamingContext(sc, 1)  # 1 second batch interval\n",
    "\n",
    "# Create a DStream that connects to hostname:port\n",
    "lines = ssc.socketTextStream(\"localhost\", 9999)\n",
    "\n",
    "# Split each line into words\n",
    "words = lines.flatMap(lambda line: line.split(\" \"))\n",
    "\n",
    "# Count each word in each batch\n",
    "pairs = words.map(lambda word: (word, 1))\n",
    "wordCounts = pairs.reduceByKey(lambda x, y: x + y)\n",
    "\n",
    "# Function to save RDD to DBFS\n",
    "def save_to_dbfs(rdd):\n",
    "    if not rdd.isEmpty():\n",
    "        df = rdd.toDF([\"word\", \"count\"])\n",
    "        timestamp = datetime.now().strftime(\"%Y%m%d%H%M%S\")\n",
    "        output_path = f\"dbfs:/FileStore/tables/wordCounts_{timestamp}.csv\"\n",
    "        df.write.csv(output_path)\n",
    "\n",
    "# Apply the function to each RDD\n",
    "wordCounts.foreachRDD(save_to_dbfs)\n",
    "\n",
    "# Start the computation\n",
    "# ssc.stop(stopSparkContext=False, stopGraceFully=True)\n",
    "ssc.start()\n",
    "\n",
    "# Wait for the computation to terminate\n",
    "ssc.awaitTermination()\n"
   ]
  },
  {
   "cell_type": "markdown",
   "metadata": {
    "application/vnd.databricks.v1+cell": {
     "cellMetadata": {},
     "inputWidgets": {},
     "nuid": "4dd694be-04e2-446b-ad6f-a179daac3aa6",
     "showTitle": false,
     "title": ""
    }
   },
   "source": [
    "## 6. RDDs vs DataFrames\n",
    "RDDs and DataFrames are two types of data structures available in Spark. Here are some key differences:\n",
    "\n",
    "- **Abstraction Level**: RDDs are low-level, providing more control over data. DataFrames are high-level, providing more convenience.\n",
    "- **Optimization**: DataFrames have built-in optimizations and use the Catalyst optimizer. RDDs require manual optimization.\n",
    "- **API**: RDDs use functional programming APIs, while DataFrames use declarative APIs similar to SQL."
   ]
  },
  {
   "cell_type": "markdown",
   "metadata": {
    "application/vnd.databricks.v1+cell": {
     "cellMetadata": {},
     "inputWidgets": {},
     "nuid": "028874a4-3904-4bb6-8bc9-08abf343cfba",
     "showTitle": false,
     "title": ""
    }
   },
   "source": [
    "## 7. Converting RDD to DataFrame\n",
    "You can convert an RDD to a DataFrame using `toDF` method."
   ]
  },
  {
   "cell_type": "code",
   "execution_count": 0,
   "metadata": {
    "application/vnd.databricks.v1+cell": {
     "cellMetadata": {
      "byteLimit": 2048000,
      "rowLimit": 10000
     },
     "inputWidgets": {},
     "nuid": "e0c30e3d-b3ab-427d-a0e1-9ca355407fbf",
     "showTitle": false,
     "title": ""
    }
   },
   "outputs": [
    {
     "output_type": "stream",
     "name": "stdout",
     "output_type": "stream",
     "text": [
      "+-----+---+\n| name|age|\n+-----+---+\n|Alice|  5|\n|  Bob| 10|\n+-----+---+\n\n"
     ]
    }
   ],
   "source": [
    "# Example of converting RDD to DataFrame\n",
    "from pyspark.sql import Row\n",
    "\n",
    "# Create an RDD\n",
    "rdd = sc.parallelize([Row(name=\"Alice\", age=5), Row(name=\"Bob\", age=10)])\n",
    "\n",
    "# Convert RDD to DataFrame\n",
    "df = rdd.toDF()\n",
    "df.show()"
   ]
  },
  {
   "cell_type": "markdown",
   "metadata": {
    "application/vnd.databricks.v1+cell": {
     "cellMetadata": {},
     "inputWidgets": {},
     "nuid": "2812db6d-0872-40b7-98f8-3bb262ac854b",
     "showTitle": false,
     "title": ""
    }
   },
   "source": [
    "## 8. Different Data Sources Available\n",
    "Spark can read data from various sources including:\n",
    "- CSV\n",
    "- JSON\n",
    "- Parquet\n",
    "- ORC\n",
    "- Avro\n",
    "- JDBC\n",
    "- HDFS\n",
    "- S3\n",
    "- HBase\n",
    "- Kafka\n"
   ]
  },
  {
   "cell_type": "markdown",
   "metadata": {
    "application/vnd.databricks.v1+cell": {
     "cellMetadata": {},
     "inputWidgets": {},
     "nuid": "7aafd7de-e279-4492-9a15-dca80ec4f11d",
     "showTitle": false,
     "title": ""
    }
   },
   "source": [
    "## 9. collect\n",
    "`collect` is an action that retrieves the entire dataset from the RDD/DataFrame to the driver node."
   ]
  },
  {
   "cell_type": "code",
   "execution_count": 0,
   "metadata": {
    "application/vnd.databricks.v1+cell": {
     "cellMetadata": {
      "byteLimit": 2048000,
      "rowLimit": 10000
     },
     "inputWidgets": {},
     "nuid": "a16df2ca-ee1e-4e8d-8804-35aa1d31a3ad",
     "showTitle": false,
     "title": ""
    }
   },
   "outputs": [
    {
     "output_type": "stream",
     "name": "stdout",
     "output_type": "stream",
     "text": [
      "[1, 2, 3, 4, 5]\n"
     ]
    }
   ],
   "source": [
    "# Example of collect\n",
    "rdd = sc.parallelize([1, 2, 3, 4, 5])\n",
    "result = rdd.collect()\n",
    "print(result)  # Output: [1, 2, 3, 4, 5]"
   ]
  },
  {
   "cell_type": "markdown",
   "metadata": {
    "application/vnd.databricks.v1+cell": {
     "cellMetadata": {},
     "inputWidgets": {},
     "nuid": "c76b0b48-923d-439c-a1c3-cf90e20bfc8c",
     "showTitle": false,
     "title": ""
    }
   },
   "source": [
    "## 10. withColumn, and withColumnRenamed\n",
    "`withColumn` is used to create a new column or replace an existing column in a DataFrame. `withColumnRenamed` is used to rename an existing column."
   ]
  },
  {
   "cell_type": "code",
   "execution_count": 0,
   "metadata": {
    "application/vnd.databricks.v1+cell": {
     "cellMetadata": {
      "byteLimit": 2048000,
      "rowLimit": 10000
     },
     "inputWidgets": {},
     "nuid": "78358ca0-559b-40db-be43-c2bd1593db43",
     "showTitle": false,
     "title": ""
    }
   },
   "outputs": [
    {
     "output_type": "stream",
     "name": "stdout",
     "output_type": "stream",
     "text": [
      "+-----+---+----------+\n| name|age|new_column|\n+-----+---+----------+\n|Alice|  5|      null|\n|  Bob| 10|      null|\n+-----+---+----------+\n\n+-----+---+--------+\n| name|age|new_name|\n+-----+---+--------+\n|Alice|  5|    null|\n|  Bob| 10|    null|\n+-----+---+--------+\n\n"
     ]
    }
   ],
   "source": [
    "# Example of withColumn\n",
    "from pyspark.sql.functions import col\n",
    "\n",
    "df = df.withColumn(\"new_column\", col(\"name\") + 1)\n",
    "df.show()\n",
    "\n",
    "# Example of withColumnRenamed\n",
    "df = df.withColumnRenamed(\"new_column\", \"new_name\")\n",
    "df.show()"
   ]
  },
  {
   "cell_type": "markdown",
   "metadata": {
    "application/vnd.databricks.v1+cell": {
     "cellMetadata": {},
     "inputWidgets": {},
     "nuid": "08d4df54-10f9-40df-bf2a-ac486d40a54d",
     "showTitle": false,
     "title": ""
    }
   },
   "source": [
    "## 11. where, and filter\n",
    "Both `where` and `filter` can be used to filter rows in a DataFrame based on a condition."
   ]
  },
  {
   "cell_type": "code",
   "execution_count": 0,
   "metadata": {
    "application/vnd.databricks.v1+cell": {
     "cellMetadata": {
      "byteLimit": 2048000,
      "rowLimit": 10000
     },
     "inputWidgets": {},
     "nuid": "595bd015-f02c-4847-b793-a9ba0d502dab",
     "showTitle": false,
     "title": ""
    }
   },
   "outputs": [
    {
     "output_type": "stream",
     "name": "stdout",
     "output_type": "stream",
     "text": [
      "+----+---+--------+\n|name|age|new_name|\n+----+---+--------+\n+----+---+--------+\n\n+----+---+--------+\n|name|age|new_name|\n+----+---+--------+\n+----+---+--------+\n\n"
     ]
    }
   ],
   "source": [
    "# Example of where and filter\n",
    "df.where(col(\"age\") > 10).show()\n",
    "df.filter(col(\"age\") > 10).show()"
   ]
  },
  {
   "cell_type": "markdown",
   "metadata": {
    "application/vnd.databricks.v1+cell": {
     "cellMetadata": {},
     "inputWidgets": {},
     "nuid": "f4639461-2d36-4c5d-a167-21bcbdc4b617",
     "showTitle": false,
     "title": ""
    }
   },
   "source": [
    "## 12. orderBy, sort, groupBy\n",
    "`orderBy` and `sort` are used to sort the DataFrame based on one or more columns. `groupBy` is used to group rows that have the same values in specified columns."
   ]
  },
  {
   "cell_type": "code",
   "execution_count": 0,
   "metadata": {
    "application/vnd.databricks.v1+cell": {
     "cellMetadata": {
      "byteLimit": 2048000,
      "rowLimit": 10000
     },
     "inputWidgets": {},
     "nuid": "e7c3c54b-fd0b-480f-87e6-9758659f3dbb",
     "showTitle": false,
     "title": ""
    }
   },
   "outputs": [
    {
     "output_type": "stream",
     "name": "stdout",
     "output_type": "stream",
     "text": [
      "+-----+---+--------+\n| name|age|new_name|\n+-----+---+--------+\n|Alice|  5|    null|\n|  Bob| 10|    null|\n+-----+---+--------+\n\n+-----+---+--------+\n| name|age|new_name|\n+-----+---+--------+\n|Alice|  5|    null|\n|  Bob| 10|    null|\n+-----+---+--------+\n\n+---+-----+\n|age|count|\n+---+-----+\n|  5|    1|\n| 10|    1|\n+---+-----+\n\n"
     ]
    }
   ],
   "source": [
    "# Example of orderBy and sort\n",
    "df.orderBy(\"age\").show()\n",
    "df.sort(\"age\").show()\n",
    "\n",
    "# Example of groupBy\n",
    "df.groupBy(\"age\").count().show()"
   ]
  },
  {
   "cell_type": "markdown",
   "metadata": {
    "application/vnd.databricks.v1+cell": {
     "cellMetadata": {},
     "inputWidgets": {},
     "nuid": "ac281376-3e66-4773-b0f1-ddf17399b8ff",
     "showTitle": false,
     "title": ""
    }
   },
   "source": [
    "## 13. drop, and dropDuplicates\n",
    "`drop` is used to remove a column from the DataFrame. `dropDuplicates` is used to remove duplicate rows from the DataFrame."
   ]
  },
  {
   "cell_type": "code",
   "execution_count": 0,
   "metadata": {
    "application/vnd.databricks.v1+cell": {
     "cellMetadata": {},
     "inputWidgets": {},
     "nuid": "aef6876c-76d0-4fe2-a99e-92508523302c",
     "showTitle": false,
     "title": ""
    }
   },
   "outputs": [],
   "source": [
    "# Example of drop\n",
    "df = df.drop(\"column_name\")\n",
    "df.show()\n",
    "\n",
    "# Example of dropDuplicates\n",
    "df = df.dropDuplicates()\n",
    "df.show()"
   ]
  },
  {
   "cell_type": "markdown",
   "metadata": {
    "application/vnd.databricks.v1+cell": {
     "cellMetadata": {},
     "inputWidgets": {},
     "nuid": "926b304b-ca39-45d2-b4d6-d0c8db1b8719",
     "showTitle": false,
     "title": ""
    }
   },
   "source": [
    "## 14. union, unionAll, unionByName\n",
    "`union` is used to combine two DataFrames with the same schema. `unionAll` is deprecated and replaced by `union`. `unionByName` is used to combine two DataFrames with matching column names."
   ]
  },
  {
   "cell_type": "code",
   "execution_count": 0,
   "metadata": {
    "application/vnd.databricks.v1+cell": {
     "cellMetadata": {},
     "inputWidgets": {},
     "nuid": "9ba68100-10ef-4740-b5b8-a87f767e1e00",
     "showTitle": false,
     "title": ""
    }
   },
   "outputs": [],
   "source": [
    "# Example of union\n",
    "df1 = spark.createDataFrame([(1, \"Alice\")], [\"id\", \"name\"])\n",
    "df2 = spark.createDataFrame([(2, \"Bob\")], [\"id\", \"name\"])\n",
    "df_union = df1.union(df2)\n",
    "df_union.show()\n",
    "\n",
    "# Example of unionByName\n",
    "df1 = spark.createDataFrame([(1, \"Alice\")], [\"id\", \"name\"])\n",
    "df2 = spark.createDataFrame([(2, \"Bob\")], [\"id\", \"name\"])\n",
    "df_union_by_name = df1.unionByName(df2)\n",
    "df_union_by_name.show()"
   ]
  },
  {
   "cell_type": "markdown",
   "metadata": {
    "application/vnd.databricks.v1+cell": {
     "cellMetadata": {},
     "inputWidgets": {},
     "nuid": "f92200b9-335c-4c40-a6e2-252062039382",
     "showTitle": false,
     "title": ""
    }
   },
   "source": [
    "## 15. transform, apply, map, and flatmap\n",
    "`transform` is used to apply a transformation function to a DataFrame. `apply` is used for column-wise operations. `map` and `flatMap` are used for element-wise operations."
   ]
  },
  {
   "cell_type": "code",
   "execution_count": 0,
   "metadata": {
    "application/vnd.databricks.v1+cell": {
     "cellMetadata": {},
     "inputWidgets": {},
     "nuid": "044219c4-27a3-4f4a-8c78-cc9637fca3f3",
     "showTitle": false,
     "title": ""
    }
   },
   "outputs": [],
   "source": [
    "# Example of transform\n",
    "def add_one(df):\n",
    "    return df.withColumn(\"new_column\", col(\"existing_column\") + 1)\n",
    "\n",
    "df_transformed = df.transform(add_one)\n",
    "df_transformed.show()\n",
    "\n",
    "# Example of apply\n",
    "df_applied = df[\"existing_column\"].apply(lambda x: x + 1)\n",
    "df_applied.show()\n",
    "\n",
    "# Example of map\n",
    "rdd = sc.parallelize([1, 2, 3, 4, 5])\n",
    "mapped_rdd = rdd.map(lambda x: x * 2)\n",
    "print(mapped_rdd.collect())  # Output: [2, 4, 6, 8, 10]\n",
    "\n",
    "# Example of flatMap\n",
    "rdd = sc.parallelize([\"hello world\", \"foo bar\"])\n",
    "flatmapped_rdd = rdd.flatMap(lambda x: x.split(\" \"))\n",
    "print(flatmapped_rdd.collect())  # Output: ['hello', 'world', 'foo', 'bar']"
   ]
  },
  {
   "cell_type": "markdown",
   "metadata": {
    "application/vnd.databricks.v1+cell": {
     "cellMetadata": {},
     "inputWidgets": {},
     "nuid": "db025449-f1bc-4f06-b361-e09beec062a8",
     "showTitle": false,
     "title": ""
    }
   },
   "source": [
    "## 16. fill, fillna, and replace\n",
    "`fill` and `fillna` are used to replace null values in a DataFrame. `replace` is used to replace specified values in a DataFrame."
   ]
  },
  {
   "cell_type": "code",
   "execution_count": 0,
   "metadata": {
    "application/vnd.databricks.v1+cell": {
     "cellMetadata": {},
     "inputWidgets": {},
     "nuid": "4b23f5d1-f4d1-4e89-8db1-c4659415f1e6",
     "showTitle": false,
     "title": ""
    }
   },
   "outputs": [],
   "source": [
    "# Example of fill and fillna\n",
    "df_filled = df.fillna(0)\n",
    "df_filled.show()\n",
    "\n",
    "# Example of replace\n",
    "df_replaced = df.replace(\"old_value\", \"new_value\")\n",
    "df_replaced.show()"
   ]
  },
  {
   "cell_type": "markdown",
   "metadata": {
    "application/vnd.databricks.v1+cell": {
     "cellMetadata": {},
     "inputWidgets": {},
     "nuid": "3850624d-ded5-49cf-8830-a5ef9c6f4ba2",
     "showTitle": false,
     "title": ""
    }
   },
   "source": [
    "## 17. pivot\n",
    "`pivot` is used to rotate the DataFrame by turning the unique values from one column into multiple columns and performing aggregation on other columns."
   ]
  },
  {
   "cell_type": "code",
   "execution_count": 0,
   "metadata": {
    "application/vnd.databricks.v1+cell": {
     "cellMetadata": {},
     "inputWidgets": {},
     "nuid": "26c88601-c645-4793-81ce-c554a47d9700",
     "showTitle": false,
     "title": ""
    }
   },
   "outputs": [],
   "source": [
    "# Example of pivot\n",
    "df_pivot = df.groupBy(\"column1\").pivot(\"column2\").sum(\"column3\")\n",
    "df_pivot.show()"
   ]
  },
  {
   "cell_type": "markdown",
   "metadata": {
    "application/vnd.databricks.v1+cell": {
     "cellMetadata": {},
     "inputWidgets": {},
     "nuid": "39a8268f-0c89-4099-9cd3-1a78e9b654fc",
     "showTitle": false,
     "title": ""
    }
   },
   "source": [
    "## 18. repartition\n",
    "`repartition` is used to change the number of partitions in a DataFrame. This can be useful for optimizing performance."
   ]
  },
  {
   "cell_type": "code",
   "execution_count": 0,
   "metadata": {
    "application/vnd.databricks.v1+cell": {
     "cellMetadata": {},
     "inputWidgets": {},
     "nuid": "8a02ae2b-b91f-4c30-80b4-6cf7fd219489",
     "showTitle": false,
     "title": ""
    }
   },
   "outputs": [],
   "source": [
    "# Example of repartition\n",
    "df_repartitioned = df.repartition(4)\n",
    "print(df_repartitioned.rdd.getNumPartitions())  # Output: 4"
   ]
  }
 ],
 "metadata": {
  "application/vnd.databricks.v1+notebook": {
   "dashboards": [],
   "environmentMetadata": null,
   "language": "python",
   "notebookMetadata": {
    "pythonIndentUnit": 4
   },
   "notebookName": "PySpark_Tutorial1",
   "widgets": {}
  },
  "kernelspec": {
   "display_name": "Python 3",
   "language": "python",
   "name": "python3"
  },
  "language_info": {
   "codemirror_mode": {
    "name": "ipython",
    "version": 3
   },
   "file_extension": ".py",
   "mimetype": "text/x-python",
   "name": "python",
   "nbconvert_exporter": "python",
   "pygments_lexer": "ipython3",
   "version": "3.8.8"
  }
 },
 "nbformat": 4,
 "nbformat_minor": 0
}
